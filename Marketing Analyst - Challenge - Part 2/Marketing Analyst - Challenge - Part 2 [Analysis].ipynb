{
 "cells": [
  {
   "cell_type": "code",
   "execution_count": 1,
   "id": "7d85bf75",
   "metadata": {},
   "outputs": [],
   "source": [
    "#!pip install marketing_attribution_models"
   ]
  },
  {
   "cell_type": "code",
   "execution_count": 2,
   "id": "7d602f39",
   "metadata": {},
   "outputs": [],
   "source": [
    "from marketing_attribution_models import MAM"
   ]
  },
  {
   "cell_type": "code",
   "execution_count": 3,
   "id": "c813e9fc",
   "metadata": {},
   "outputs": [],
   "source": [
    "import pandas as pd\n",
    "import numpy as np\n",
    "import seaborn as sns \n",
    "import matplotlib.pyplot as plt\n",
    "import warnings\n",
    "warnings.filterwarnings('ignore')"
   ]
  },
  {
   "cell_type": "code",
   "execution_count": 4,
   "id": "6d6bf4ec",
   "metadata": {},
   "outputs": [],
   "source": [
    "data = pd.read_csv('dataset_new.csv')"
   ]
  },
  {
   "cell_type": "code",
   "execution_count": 5,
   "id": "f2e0db82",
   "metadata": {},
   "outputs": [
    {
     "data": {
      "text/plain": [
       "(184882, 9)"
      ]
     },
     "metadata": {},
     "output_type": "display_data"
    },
    {
     "data": {
      "text/html": [
       "<div>\n",
       "<style scoped>\n",
       "    .dataframe tbody tr th:only-of-type {\n",
       "        vertical-align: middle;\n",
       "    }\n",
       "\n",
       "    .dataframe tbody tr th {\n",
       "        vertical-align: top;\n",
       "    }\n",
       "\n",
       "    .dataframe thead th {\n",
       "        text-align: right;\n",
       "    }\n",
       "</style>\n",
       "<table border=\"1\" class=\"dataframe\">\n",
       "  <thead>\n",
       "    <tr style=\"text-align: right;\">\n",
       "      <th></th>\n",
       "      <th>user_pseudo_id</th>\n",
       "      <th>state_fill</th>\n",
       "      <th>medium_path</th>\n",
       "      <th>conversion_flag</th>\n",
       "      <th>first_touchpoint_date</th>\n",
       "      <th>first_touchpoint_time</th>\n",
       "      <th>conversion_date</th>\n",
       "      <th>conversion_time</th>\n",
       "      <th>state_fill_numeric</th>\n",
       "    </tr>\n",
       "  </thead>\n",
       "  <tbody>\n",
       "    <tr>\n",
       "      <th>0</th>\n",
       "      <td>hVFl1B9VCClNRvIkpxOUfhB9P/6a832e1Dc2ZX+YGNDCah...</td>\n",
       "      <td>North Dakota</td>\n",
       "      <td>no medium</td>\n",
       "      <td>0</td>\n",
       "      <td>2023-01-21</td>\n",
       "      <td>10:33</td>\n",
       "      <td>NaN</td>\n",
       "      <td>NaN</td>\n",
       "      <td>34.0</td>\n",
       "    </tr>\n",
       "    <tr>\n",
       "      <th>1</th>\n",
       "      <td>KBEwoksttJ+YiA6EFk0EiR5d7LIfHYuTcD9jFLFgG/a2gr...</td>\n",
       "      <td>Maryland</td>\n",
       "      <td>no medium</td>\n",
       "      <td>0</td>\n",
       "      <td>2023-01-23</td>\n",
       "      <td>22:53</td>\n",
       "      <td>NaN</td>\n",
       "      <td>NaN</td>\n",
       "      <td>20.0</td>\n",
       "    </tr>\n",
       "    <tr>\n",
       "      <th>2</th>\n",
       "      <td>S27mHCNkECsdX3td8QrOEplOyacPaiMNSnSiYkrPyIq7Xe...</td>\n",
       "      <td>New Jersey</td>\n",
       "      <td>no medium</td>\n",
       "      <td>0</td>\n",
       "      <td>2023-01-24</td>\n",
       "      <td>11:39</td>\n",
       "      <td>NaN</td>\n",
       "      <td>NaN</td>\n",
       "      <td>30.0</td>\n",
       "    </tr>\n",
       "    <tr>\n",
       "      <th>3</th>\n",
       "      <td>1AkFYd/UnL/x3YVszCg6XQdvR0vrzdb37m809BpOSpqeZJ...</td>\n",
       "      <td>Nevada</td>\n",
       "      <td>no medium</td>\n",
       "      <td>0</td>\n",
       "      <td>2023-01-24</td>\n",
       "      <td>15:03</td>\n",
       "      <td>NaN</td>\n",
       "      <td>NaN</td>\n",
       "      <td>28.0</td>\n",
       "    </tr>\n",
       "    <tr>\n",
       "      <th>4</th>\n",
       "      <td>w6IqLfvEa1J/i6mHkJvoNbL4/FDZM6hFOUmj7rekuj2sXe...</td>\n",
       "      <td>West Virginia</td>\n",
       "      <td>no medium</td>\n",
       "      <td>0</td>\n",
       "      <td>2023-01-05</td>\n",
       "      <td>04:58</td>\n",
       "      <td>NaN</td>\n",
       "      <td>NaN</td>\n",
       "      <td>48.0</td>\n",
       "    </tr>\n",
       "  </tbody>\n",
       "</table>\n",
       "</div>"
      ],
      "text/plain": [
       "                                      user_pseudo_id     state_fill  \\\n",
       "0  hVFl1B9VCClNRvIkpxOUfhB9P/6a832e1Dc2ZX+YGNDCah...   North Dakota   \n",
       "1  KBEwoksttJ+YiA6EFk0EiR5d7LIfHYuTcD9jFLFgG/a2gr...       Maryland   \n",
       "2  S27mHCNkECsdX3td8QrOEplOyacPaiMNSnSiYkrPyIq7Xe...     New Jersey   \n",
       "3  1AkFYd/UnL/x3YVszCg6XQdvR0vrzdb37m809BpOSpqeZJ...         Nevada   \n",
       "4  w6IqLfvEa1J/i6mHkJvoNbL4/FDZM6hFOUmj7rekuj2sXe...  West Virginia   \n",
       "\n",
       "  medium_path  conversion_flag first_touchpoint_date first_touchpoint_time  \\\n",
       "0   no medium                0            2023-01-21                 10:33   \n",
       "1   no medium                0            2023-01-23                 22:53   \n",
       "2   no medium                0            2023-01-24                 11:39   \n",
       "3   no medium                0            2023-01-24                 15:03   \n",
       "4   no medium                0            2023-01-05                 04:58   \n",
       "\n",
       "  conversion_date conversion_time  state_fill_numeric  \n",
       "0             NaN             NaN                34.0  \n",
       "1             NaN             NaN                20.0  \n",
       "2             NaN             NaN                30.0  \n",
       "3             NaN             NaN                28.0  \n",
       "4             NaN             NaN                48.0  "
      ]
     },
     "execution_count": 5,
     "metadata": {},
     "output_type": "execute_result"
    }
   ],
   "source": [
    "display(data.shape)\n",
    "data.head()"
   ]
  },
  {
   "cell_type": "markdown",
   "id": "b1131afa",
   "metadata": {},
   "source": [
    "# General analysis with or without conversion"
   ]
  },
  {
   "cell_type": "code",
   "execution_count": 6,
   "id": "a14aa0fc",
   "metadata": {},
   "outputs": [
    {
     "data": {
      "text/plain": [
       "Other         45629\n",
       "Kansas        15392\n",
       "Texas         13961\n",
       "California    11522\n",
       "New York       7753\n",
       "Illinois       6004\n",
       "Florida        5731\n",
       "Missouri       5245\n",
       "Minnesota      4995\n",
       "Ohio           4371\n",
       "Name: state_fill, dtype: int64"
      ]
     },
     "execution_count": 6,
     "metadata": {},
     "output_type": "execute_result"
    }
   ],
   "source": [
    "# Count the frequency of each state\n",
    "frecuencia_estados = data['state_fill'].value_counts()\n",
    "\n",
    "# Select the 10 most frequent states with our without conversions\n",
    "top_10_estados = frecuencia_estados.head(10)\n",
    "\n",
    "# Mostrar los resultados\n",
    "top_10_estados"
   ]
  },
  {
   "cell_type": "code",
   "execution_count": 7,
   "id": "1fda18d3",
   "metadata": {},
   "outputs": [
    {
     "name": "stdout",
     "output_type": "stream",
     "text": [
      "Conversion Ratio: 0.0699148646163499\n"
     ]
    }
   ],
   "source": [
    "conversion_ratio = data['conversion_flag'].mean()\n",
    "print(f\"Conversion Ratio: {conversion_ratio}\")"
   ]
  },
  {
   "cell_type": "code",
   "execution_count": 8,
   "id": "9b178458",
   "metadata": {},
   "outputs": [],
   "source": [
    "# Extract last word from each row in medium_path column\n",
    "data.loc[:, 'last_medium'] = data['medium_path'].str.split(',').str[-1]"
   ]
  },
  {
   "cell_type": "code",
   "execution_count": 9,
   "id": "488339cc",
   "metadata": {},
   "outputs": [
    {
     "name": "stdout",
     "output_type": "stream",
     "text": [
      "Number of people who did not convert: (171956, 10)\n",
      "Percentage of people who did not convert: 93.01%\n"
     ]
    }
   ],
   "source": [
    "# Filter out people who don't convert\n",
    "total_non_converted = data[data['conversion_flag'] == 0]\n",
    "print(\"Number of people who did not convert:\", total_non_converted.shape)\n",
    "\n",
    "total_entries = len(data)\n",
    "num_non_converted = len(total_non_converted)\n",
    "percentage_non_converted = (num_non_converted / total_entries) * 100\n",
    "print(f\"Percentage of people who did not convert: {percentage_non_converted:.2f}%\")\n"
   ]
  },
  {
   "cell_type": "code",
   "execution_count": 10,
   "id": "8e24475d",
   "metadata": {},
   "outputs": [
    {
     "name": "stdout",
     "output_type": "stream",
     "text": [
      "no medium          94448\n",
      "paidsocial         20960\n",
      "cpc                14335\n",
      "email              13603\n",
      "organic            10974\n",
      "affiliates          8930\n",
      "referral            7687\n",
      "gotoweb              947\n",
      "chumba_post           58\n",
      "company_profile        7\n",
      "a                      3\n",
      "influencer             3\n",
      "affili                 1\n",
      "Name: last_medium, dtype: int64\n"
     ]
    }
   ],
   "source": [
    "# Calculate the frequency of each medium in the last_medium column for non-converted individuals\n",
    "non_converted_medium_frequency = total_non_converted['last_medium'].value_counts()\n",
    "print(non_converted_medium_frequency)"
   ]
  },
  {
   "cell_type": "code",
   "execution_count": 11,
   "id": "5e3f00b0",
   "metadata": {},
   "outputs": [
    {
     "name": "stdout",
     "output_type": "stream",
     "text": [
      "Número de veces que aparece 'no medium': 99863\n",
      "Porcentaje de 'no medium' respecto al total: 54.01%\n"
     ]
    }
   ],
   "source": [
    "# Contar las ocurrencias de \"no medium\"\n",
    "count_no_medium = data[data['medium_path'] == 'no medium'].shape[0]\n",
    "\n",
    "# Calcular el porcentaje\n",
    "percentage_no_medium = (count_no_medium / data.shape[0]) * 100\n",
    "\n",
    "# Imprimir los resultados\n",
    "print(f\"Número de veces que aparece 'no medium': {count_no_medium}\")\n",
    "print(f\"Porcentaje de 'no medium' respecto al total: {percentage_no_medium:.2f}%\")\n"
   ]
  },
  {
   "cell_type": "code",
   "execution_count": 14,
   "id": "df843d85",
   "metadata": {},
   "outputs": [
    {
     "data": {
      "text/html": [
       "<div>\n",
       "<style scoped>\n",
       "    .dataframe tbody tr th:only-of-type {\n",
       "        vertical-align: middle;\n",
       "    }\n",
       "\n",
       "    .dataframe tbody tr th {\n",
       "        vertical-align: top;\n",
       "    }\n",
       "\n",
       "    .dataframe thead th {\n",
       "        text-align: right;\n",
       "    }\n",
       "</style>\n",
       "<table border=\"1\" class=\"dataframe\">\n",
       "  <thead>\n",
       "    <tr style=\"text-align: right;\">\n",
       "      <th></th>\n",
       "      <th>user_pseudo_id</th>\n",
       "      <th>state_fill</th>\n",
       "      <th>medium_path</th>\n",
       "      <th>conversion_flag</th>\n",
       "      <th>first_touchpoint_date</th>\n",
       "      <th>first_touchpoint_time</th>\n",
       "      <th>conversion_date</th>\n",
       "      <th>conversion_time</th>\n",
       "      <th>state_fill_numeric</th>\n",
       "      <th>last_medium</th>\n",
       "    </tr>\n",
       "  </thead>\n",
       "  <tbody>\n",
       "    <tr>\n",
       "      <th>0</th>\n",
       "      <td>hVFl1B9VCClNRvIkpxOUfhB9P/6a832e1Dc2ZX+YGNDCah...</td>\n",
       "      <td>North Dakota</td>\n",
       "      <td>no medium</td>\n",
       "      <td>0</td>\n",
       "      <td>2023-01-21</td>\n",
       "      <td>10:33</td>\n",
       "      <td>NaN</td>\n",
       "      <td>NaN</td>\n",
       "      <td>34.0</td>\n",
       "      <td>no medium</td>\n",
       "    </tr>\n",
       "    <tr>\n",
       "      <th>1</th>\n",
       "      <td>KBEwoksttJ+YiA6EFk0EiR5d7LIfHYuTcD9jFLFgG/a2gr...</td>\n",
       "      <td>Maryland</td>\n",
       "      <td>no medium</td>\n",
       "      <td>0</td>\n",
       "      <td>2023-01-23</td>\n",
       "      <td>22:53</td>\n",
       "      <td>NaN</td>\n",
       "      <td>NaN</td>\n",
       "      <td>20.0</td>\n",
       "      <td>no medium</td>\n",
       "    </tr>\n",
       "    <tr>\n",
       "      <th>2</th>\n",
       "      <td>S27mHCNkECsdX3td8QrOEplOyacPaiMNSnSiYkrPyIq7Xe...</td>\n",
       "      <td>New Jersey</td>\n",
       "      <td>no medium</td>\n",
       "      <td>0</td>\n",
       "      <td>2023-01-24</td>\n",
       "      <td>11:39</td>\n",
       "      <td>NaN</td>\n",
       "      <td>NaN</td>\n",
       "      <td>30.0</td>\n",
       "      <td>no medium</td>\n",
       "    </tr>\n",
       "    <tr>\n",
       "      <th>3</th>\n",
       "      <td>1AkFYd/UnL/x3YVszCg6XQdvR0vrzdb37m809BpOSpqeZJ...</td>\n",
       "      <td>Nevada</td>\n",
       "      <td>no medium</td>\n",
       "      <td>0</td>\n",
       "      <td>2023-01-24</td>\n",
       "      <td>15:03</td>\n",
       "      <td>NaN</td>\n",
       "      <td>NaN</td>\n",
       "      <td>28.0</td>\n",
       "      <td>no medium</td>\n",
       "    </tr>\n",
       "    <tr>\n",
       "      <th>4</th>\n",
       "      <td>w6IqLfvEa1J/i6mHkJvoNbL4/FDZM6hFOUmj7rekuj2sXe...</td>\n",
       "      <td>West Virginia</td>\n",
       "      <td>no medium</td>\n",
       "      <td>0</td>\n",
       "      <td>2023-01-05</td>\n",
       "      <td>04:58</td>\n",
       "      <td>NaN</td>\n",
       "      <td>NaN</td>\n",
       "      <td>48.0</td>\n",
       "      <td>no medium</td>\n",
       "    </tr>\n",
       "  </tbody>\n",
       "</table>\n",
       "</div>"
      ],
      "text/plain": [
       "                                      user_pseudo_id     state_fill  \\\n",
       "0  hVFl1B9VCClNRvIkpxOUfhB9P/6a832e1Dc2ZX+YGNDCah...   North Dakota   \n",
       "1  KBEwoksttJ+YiA6EFk0EiR5d7LIfHYuTcD9jFLFgG/a2gr...       Maryland   \n",
       "2  S27mHCNkECsdX3td8QrOEplOyacPaiMNSnSiYkrPyIq7Xe...     New Jersey   \n",
       "3  1AkFYd/UnL/x3YVszCg6XQdvR0vrzdb37m809BpOSpqeZJ...         Nevada   \n",
       "4  w6IqLfvEa1J/i6mHkJvoNbL4/FDZM6hFOUmj7rekuj2sXe...  West Virginia   \n",
       "\n",
       "  medium_path  conversion_flag first_touchpoint_date first_touchpoint_time  \\\n",
       "0   no medium                0            2023-01-21                 10:33   \n",
       "1   no medium                0            2023-01-23                 22:53   \n",
       "2   no medium                0            2023-01-24                 11:39   \n",
       "3   no medium                0            2023-01-24                 15:03   \n",
       "4   no medium                0            2023-01-05                 04:58   \n",
       "\n",
       "  conversion_date conversion_time  state_fill_numeric last_medium  \n",
       "0             NaN             NaN                34.0   no medium  \n",
       "1             NaN             NaN                20.0   no medium  \n",
       "2             NaN             NaN                30.0   no medium  \n",
       "3             NaN             NaN                28.0   no medium  \n",
       "4             NaN             NaN                48.0   no medium  "
      ]
     },
     "execution_count": 14,
     "metadata": {},
     "output_type": "execute_result"
    }
   ],
   "source": [
    "total_non_converted.head()"
   ]
  },
  {
   "cell_type": "code",
   "execution_count": 21,
   "id": "606bf46e",
   "metadata": {},
   "outputs": [
    {
     "data": {
      "image/png": "[encoded data removed]",
      "text/plain": [
       "<Figure size 800x400 with 1 Axes>"
      ]
     },
     "metadata": {},
     "output_type": "display_data"
    }
   ],
   "source": [
    "# Filter the DataFrame to consider only the top 10 most frequent states\n",
    "top_10_states = total_non_converted['state_fill'].value_counts().head(10)\n",
    "top_10_states_data = total_non_converted[total_non_converted['state_fill'].isin(top_10_states.index)]\n",
    "state_frequency = top_10_states_data['state_fill'].value_counts()\n",
    "\n",
    "plt.figure(figsize=(8, 4))\n",
    "state_frequency.plot(kind='bar', color='navy')\n",
    "plt.title('Frequency of Top 10 States with Non-Conversions')\n",
    "plt.xlabel('State')\n",
    "plt.ylabel('Frequency')\n",
    "plt.xticks(rotation=45, ha='right')\n",
    "plt.grid(axis='y', linestyle='--', alpha=0.7)\n",
    "plt.show()\n"
   ]
  },
  {
   "cell_type": "code",
   "execution_count": 18,
   "id": "99ceeb60",
   "metadata": {},
   "outputs": [
    {
     "data": {
      "image/png": "[encoded data removed]",
      "text/plain": [
       "<Figure size 1000x600 with 1 Axes>"
      ]
     },
     "metadata": {},
     "output_type": "display_data"
    }
   ],
   "source": [
    "import matplotlib.pyplot as plt\n",
    "\n",
    "# Filter the DataFrame to consider only the top 10 most frequent states\n",
    "top_10_states = total_non_converted['state_fill'].value_counts().head(10)\n",
    "top_10_states_data = total_non_converted[total_non_converted['state_fill'].isin(top_10_states.index)]\n",
    "\n",
    "# Calculate the sum of frequency of states\n",
    "state_frequency = top_10_states_data['state_fill'].value_counts()\n",
    "\n",
    "# Plot the data\n",
    "plt.figure(figsize=(10, 6))\n",
    "state_frequency.plot(kind='barh', color='navy')  # Set kind='barh' for horizontal bars\n",
    "plt.title('Frequency of Top 10 States with Non-Conversions')\n",
    "plt.xlabel('Frequency')\n",
    "plt.ylabel('State')\n",
    "plt.grid(axis='x', linestyle='--', alpha=0.7)  # Adjust grid to x-axis\n",
    "plt.show()\n"
   ]
  },
  {
   "cell_type": "markdown",
   "id": "61522fe5",
   "metadata": {},
   "source": [
    "# Analysis of channels and conversions"
   ]
  },
  {
   "cell_type": "code",
   "execution_count": null,
   "id": "698ec58d",
   "metadata": {},
   "outputs": [],
   "source": [
    "# Filter only by conversions obtained\n",
    "conversion_data = data[data['conversion_flag'] == 1]"
   ]
  },
  {
   "cell_type": "code",
   "execution_count": null,
   "id": "d3838b98",
   "metadata": {},
   "outputs": [],
   "source": [
    "conversion_data.head()\n",
    "conversion_data.shape"
   ]
  },
  {
   "cell_type": "code",
   "execution_count": null,
   "id": "5c117735",
   "metadata": {},
   "outputs": [],
   "source": [
    "# Calculate the average number of days that pass between the first contact and the conversion\n",
    "\n",
    "conversion_data['first_touchpoint_date'] = pd.to_datetime(conversion_data['first_touchpoint_date'])\n",
    "conversion_data['conversion_date'] = pd.to_datetime(conversion_data['conversion_date'])\n",
    "conversion_data['days_to_conversion'] = (conversion_data['conversion_date'] - conversion_data['first_touchpoint_date']).dt.days\n",
    "average_days_to_conversion = conversion_data['days_to_conversion'].mean()\n",
    "print(f\"Average days to conversion: {average_days_to_conversion:.2f} days\")\n"
   ]
  },
  {
   "cell_type": "code",
   "execution_count": null,
   "id": "19b79770",
   "metadata": {},
   "outputs": [],
   "source": [
    "conversion_data['day_of_week'] = conversion_data['conversion_date'].dt.day_name()\n",
    "conversion_by_day = conversion_data['day_of_week'].value_counts().sort_values(ascending=False)\n",
    "plt.figure(figsize=(10, 6))\n",
    "conversion_by_day.plot(kind='bar', color='navy')\n",
    "plt.title('Conversions by Day of the Week')\n",
    "plt.xlabel('Day of the Week')\n",
    "plt.ylabel('Number of Conversions')\n",
    "plt.xticks(rotation=45)\n",
    "plt.grid(axis='y', linestyle='--', alpha=0.7)\n",
    "#for i in range(len(conversion_by_day)):\n",
    "  #  plt.text(i, conversion_by_day[i] - 80, conversion_by_day[i], ha='center', color='white')\n",
    "plt.show()\n"
   ]
  },
  {
   "cell_type": "code",
   "execution_count": null,
   "id": "70bc7200",
   "metadata": {},
   "outputs": [],
   "source": [
    "# Frequency of last channel in contact before conversion\n",
    "conversion_data['last_medium'].value_counts()"
   ]
  },
  {
   "cell_type": "code",
   "execution_count": null,
   "id": "74d53267",
   "metadata": {},
   "outputs": [],
   "source": [
    "ratio = 5415 / 2325\n",
    "print(f'The frequency of \"no medium\" is approximately {ratio:.2f} times greater than the frequency of \"organic\".')"
   ]
  },
  {
   "cell_type": "code",
   "execution_count": null,
   "id": "9ab184da",
   "metadata": {},
   "outputs": [],
   "source": [
    "# Identify the top 10 states with conversions\n",
    "\n",
    "conv_state_frequency = conversion_data['state_fill'].value_counts()\n",
    "top_10_states_conv = conv_state_frequency.head(10)\n",
    "top_10_states_conv"
   ]
  },
  {
   "cell_type": "code",
   "execution_count": null,
   "id": "5fd16ba4",
   "metadata": {},
   "outputs": [],
   "source": [
    "# Calculate the conversion percentage for each state\n",
    "\n",
    "conversion_percentage_by_state = (top_10_states_conv / 12926) * 100\n",
    "conversion_percentage_by_state"
   ]
  },
  {
   "cell_type": "code",
   "execution_count": null,
   "id": "33a34c34",
   "metadata": {},
   "outputs": [],
   "source": [
    "# I want to know the average in Texas states with the highest conversions\n",
    "\n",
    "texas_data = conversion_data[conversion_data['state_fill'] == 'Texas']\n",
    "frecuencia_medium_texas = texas_data['last_medium'].value_counts()\n",
    "print(frecuencia_medium_texas)\n"
   ]
  },
  {
   "cell_type": "code",
   "execution_count": null,
   "id": "3107abc6",
   "metadata": {},
   "outputs": [],
   "source": [
    "# Search if there is a correlation between the top 10 states with the highest conversions and the channels\n",
    "\n",
    "top_10_estados = conversion_data['state_fill'].value_counts().head(10).index.tolist()\n",
    "top_10_data = conversion_data[conversion_data['state_fill'].isin(top_10_estados)]\n",
    "top_10_data = top_10_data[top_10_data['last_medium'] != 'no medium']\n",
    "contingency_table = pd.crosstab(top_10_data['state_fill'], top_10_data['last_medium'])\n",
    "\n",
    "plt.figure(figsize=(12, 8))\n",
    "sns.heatmap(contingency_table, cmap='viridis', annot=True, fmt='d', cbar=True)\n",
    "plt.title('Relationship between the top 10 states with the channels')\n",
    "plt.xlabel('Conversion channels')\n",
    "plt.ylabel('State')\n",
    "plt.xticks(rotation=45)\n",
    "plt.yticks(rotation=0)\n",
    "plt.show()"
   ]
  },
  {
   "cell_type": "code",
   "execution_count": null,
   "id": "18a1000a",
   "metadata": {},
   "outputs": [],
   "source": [
    "# Calculate the conversion rate for each state in the top 10 that convert the least\n",
    "\n",
    "conversions_by_state = conversion_data.groupby('state_fill')['conversion_flag'].sum()\n",
    "conversions_by_state_asc = conversions_by_state.sort_values(ascending=True)\n",
    "top_10_states_menos_conv = conversions_by_state_asc.head(10)\n",
    "porcentaje_conversions_by_state_menos_conv = (top_10_states_menos_conv / 12926) * 100\n",
    "print(porcentaje_conversions_by_state_menos_conv)\n"
   ]
  },
  {
   "cell_type": "code",
   "execution_count": null,
   "id": "d03475a9",
   "metadata": {},
   "outputs": [],
   "source": [
    "def custom_attribution_model(data):\n",
    "    num_touchpoints = len(data)\n",
    "    first_touchpoint_credit = 30\n",
    "    last_touchpoint_credit = 40\n",
    "    intermediate_touchpoint_credit = (100 - first_touchpoint_credit - last_touchpoint_credit) / (num_touchpoints - 2)\n",
    "\n",
    "    attribution_credits = []\n",
    "\n",
    "    attribution_credits.append(first_touchpoint_credit)\n",
    "    for i in range(1, num_touchpoints - 1):\n",
    "        attribution_credits.append(intermediate_touchpoint_credit)\n",
    "    attribution_credits.append(last_touchpoint_credit)\n",
    "\n",
    "    data['attribution_credit'] = attribution_credits\n",
    "    return data\n",
    "\n",
    "custom_attributions = custom_attribution_model(conversion_data)\n",
    "custom_attributions"
   ]
  },
  {
   "cell_type": "code",
   "execution_count": null,
   "id": "52354bf0",
   "metadata": {},
   "outputs": [],
   "source": [
    "# Apply filter to select only rows where 'last_medium' is different from 'no medium'\n",
    "filtered_custom_attributions = custom_attributions[custom_attributions['last_medium'] != 'no medium']"
   ]
  },
  {
   "cell_type": "code",
   "execution_count": null,
   "id": "b25b0e7a",
   "metadata": {},
   "outputs": [],
   "source": [
    "# Select the rows with the 10 highest values in the \"attribution_credit\" column\n",
    "\n",
    "top_10_custom_attributions = filtered_custom_attributions.nlargest(10, 'attribution_credit')\n",
    "filtered_df = top_10_custom_attributions[['state_fill', 'conversion_date','last_medium','attribution_credit']]\n",
    "filtered_df"
   ]
  },
  {
   "cell_type": "code",
   "execution_count": null,
   "id": "36e90a90",
   "metadata": {},
   "outputs": [],
   "source": [
    "top_50_custom_attributions = filtered_custom_attributions.nlargest(50, 'attribution_credit')\n",
    "filtered_df_50 = top_50_custom_attributions[['state_fill', 'conversion_date','last_medium','attribution_credit']]\n",
    "#filtered_df_50"
   ]
  },
  {
   "cell_type": "code",
   "execution_count": null,
   "id": "b56d8f51",
   "metadata": {},
   "outputs": [],
   "source": [
    "#Split the \"medium_path\" by channel in the journey\n",
    "\n",
    "medium_path_split = conversion_data['medium_path'].str.split(',', expand=True)\n",
    "medium_path_split.columns = [f\"mp_{i+1}\" for i in range(len(medium_path_split.columns))]\n",
    "df = pd.concat([conversion_data, medium_path_split], axis=1)\n",
    "df"
   ]
  },
  {
   "cell_type": "code",
   "execution_count": null,
   "id": "ced29244",
   "metadata": {},
   "outputs": [],
   "source": [
    "# Filter only by conversions obtained\n",
    "df_m = df.loc[df['medium_path'] != 'no medium'].copy()"
   ]
  },
  {
   "cell_type": "code",
   "execution_count": null,
   "id": "87865601",
   "metadata": {},
   "outputs": [],
   "source": [
    "# Count the number of steps they took to convert\n",
    "df_m['journey_steps'] = df_m.filter(like='mp').count(axis=1)\n",
    "df_m"
   ]
  },
  {
   "cell_type": "code",
   "execution_count": null,
   "id": "ed3e3ca9",
   "metadata": {},
   "outputs": [],
   "source": [
    "#df_m['journey_steps'].value_counts()"
   ]
  },
  {
   "cell_type": "code",
   "execution_count": null,
   "id": "a6138f6a",
   "metadata": {},
   "outputs": [],
   "source": [
    "# Calculate the frequency of steps from 1 to 10\n",
    "frequency_steps_1_to_10 = [(df_m['journey_steps'] == i).sum() for i in range(1, 11)]\n",
    "total_steps = sum(frequency_steps_1_to_10)\n",
    "step_table = pd.DataFrame({\n",
    "    'Step': list(range(1, 11)),\n",
    "    'Frequency': frequency_steps_1_to_10\n",
    "})\n",
    "\n",
    "step_table.loc['Total'] = ['Total', total_steps]\n",
    "step_table"
   ]
  },
  {
   "cell_type": "markdown",
   "id": "b2c3e7d1",
   "metadata": {},
   "source": [
    "* Analyze first touchpoint channels"
   ]
  },
  {
   "cell_type": "code",
   "execution_count": null,
   "id": "0aa3fe72",
   "metadata": {},
   "outputs": [],
   "source": [
    "# Calculate the frequency of each medium in 'mp_1'\n",
    "\n",
    "frequency_mp_1 = df_m['mp_1'].value_counts()\n",
    "mp_1_table = pd.DataFrame({'Medium': frequency_mp_1.index, 'Frequency': frequency_mp_1.values})\n",
    "mp_1_table"
   ]
  },
  {
   "cell_type": "markdown",
   "id": "7403d038",
   "metadata": {},
   "source": [
    "* Most frequent channel in the last touchpoint before conversion"
   ]
  },
  {
   "cell_type": "code",
   "execution_count": null,
   "id": "75e7859c",
   "metadata": {},
   "outputs": [],
   "source": [
    "# Calculate the frequency of each medium in 'last_medium'\n",
    "frequency_last_mp = df_m['last_medium'].value_counts()\n",
    "last_mp_table = pd.DataFrame({'Medium': frequency_last_mp.index, 'Frequency': frequency_last_mp.values})\n",
    "last_mp_table"
   ]
  },
  {
   "cell_type": "code",
   "execution_count": null,
   "id": "93262f0a",
   "metadata": {},
   "outputs": [],
   "source": [
    "# Find out how many people repeat the conversion by which channel\n",
    "\n",
    "duplicados_por_canal = df[df.duplicated(subset=['user_pseudo_id', 'last_medium'], keep=False)]\n",
    "duplicados_por_canal = duplicados_por_canal.groupby('last_medium')['user_pseudo_id'].count().reset_index()\n",
    "duplicados_por_canal.rename(columns={'user_pseudo_id': 'duplicates_count'}, inplace=True)\n",
    "duplicados_por_canal = duplicados_por_canal.sort_values(by='duplicates_count', ascending=False)\n",
    "duplicados_por_canal\n"
   ]
  },
  {
   "cell_type": "code",
   "execution_count": null,
   "id": "4bf6189b",
   "metadata": {},
   "outputs": [],
   "source": [
    "# Find out how many people repeat the conversion by which channel\n",
    "duplicados_por_user = df[df.duplicated(subset=['user_pseudo_id', 'last_medium'], keep=False)]\n",
    "duplicados_por_user = duplicados_por_user.groupby(['user_pseudo_id', 'last_medium']).size().reset_index(name='duplicates_count')\n",
    "duplicados_por_user_top10 = duplicados_por_user.sort_values(by='duplicates_count', ascending=False).head(10)\n",
    "duplicados_por_user_top10"
   ]
  },
  {
   "cell_type": "code",
   "execution_count": null,
   "id": "13590adf",
   "metadata": {},
   "outputs": [],
   "source": [
    "# Calculate the maximum number of steps, the minimum and the average\n",
    "\n",
    "max_journey_steps = df_m['journey_steps'].max()\n",
    "min_journey_steps = df_m['journey_steps'].min()\n",
    "avg_journey_steps = df_m['journey_steps'].mean()\n",
    "summary_df = pd.DataFrame({\n",
    "    'Statistic': ['Maximum', 'Minimum', 'Average'],\n",
    "    'Journey Steps': [max_journey_steps, min_journey_steps, avg_journey_steps]\n",
    "})\n",
    "\n",
    "print(summary_df)\n"
   ]
  },
  {
   "cell_type": "code",
   "execution_count": null,
   "id": "3d2f6342",
   "metadata": {},
   "outputs": [],
   "source": [
    "# the total frequency with which the channel is repeated in journeys\n",
    "\n",
    "mediums_concatenados = pd.concat([df_m[f'mp_{i}'] for i in range(1, 75)])\n",
    "frecuencia_medios = mediums_concatenados.value_counts()\n",
    "tabla_frecuencia = pd.DataFrame(frecuencia_medios, columns=['Frequency'])\n",
    "print(tabla_frecuencia)"
   ]
  },
  {
   "cell_type": "code",
   "execution_count": null,
   "id": "f8cd00b1",
   "metadata": {},
   "outputs": [],
   "source": [
    "# Group journey_steps into categories\n",
    "df_m['journey_steps_group'] = pd.cut(df_m['journey_steps'], bins=[0, 1, 5, 10, float('inf')], labels=['1 step', '2-5 steps', '6-10 steps', 'more than 10 steps'])\n",
    "\n",
    "journey_steps_group_freq = df_m['journey_steps_group'].value_counts().sort_index()\n",
    "\n",
    "plt.figure(figsize=(8, 6))\n",
    "journey_steps_group_freq.plot(kind='bar', color='navy')\n",
    "plt.xlabel('Number of Journey Steps')\n",
    "plt.ylabel('Frequency')\n",
    "plt.title('Frequency of Journey Steps Groups')\n",
    "plt.xticks(rotation=45)\n",
    "plt.show()"
   ]
  },
  {
   "cell_type": "code",
   "execution_count": null,
   "id": "b67a7b83",
   "metadata": {},
   "outputs": [],
   "source": [
    "# Which channel is the most frequent for those who only take one step in the conversion?\n",
    "\n",
    "df_1_step = df_m[df_m['journey_steps'] == 1]\n",
    "frequency_last_medium = df_1_step['last_medium'].value_counts()\n",
    "frequency_last_medium"
   ]
  },
  {
   "cell_type": "code",
   "execution_count": null,
   "id": "0250c4f3",
   "metadata": {},
   "outputs": [],
   "source": [
    "medium_counts = df_m['mp_1'].value_counts()\n",
    "\n",
    "labels = medium_counts.index\n",
    "sizes = medium_counts.values\n",
    "\n",
    "colors = plt.cm.viridis(np.linspace(0, 1, len(labels)))\n",
    "fig, ax = plt.subplots()\n",
    "wedges, texts, autotexts = ax.pie(sizes, colors=colors, startangle=140, autopct='%1.1f%%', pctdistance=0.85)\n",
    "ax.axis('equal')  # Equal aspect ratio ensures that pie is drawn as a circle.\n",
    "legend_labels = [f'{label}: {sizes[i]}' for i, label in enumerate(labels)]\n",
    "ax.legend(wedges, legend_labels, loc='center right', bbox_to_anchor=(-0.1, 0.5))\n",
    "for autotext in autotexts:\n",
    "    autotext.set_color('white')\n",
    "\n",
    "plt.title('Distribution of Mediums in mp_1')\n",
    "plt.show()\n"
   ]
  },
  {
   "cell_type": "code",
   "execution_count": null,
   "id": "f95e2f60",
   "metadata": {},
   "outputs": [],
   "source": [
    "df_m['mp_1'].value_counts()"
   ]
  },
  {
   "cell_type": "code",
   "execution_count": null,
   "id": "4e44f97d",
   "metadata": {},
   "outputs": [],
   "source": [
    "df_m['last_medium'].value_counts()"
   ]
  },
  {
   "cell_type": "code",
   "execution_count": null,
   "id": "95191b54",
   "metadata": {},
   "outputs": [],
   "source": [
    "# What combination of start and end channels has the highest frequency?\n",
    "\n",
    "df_m['start_end_medium'] = df_m['mp_1'] + '_' + df_m['last_medium']\n",
    "frecuencia_combinaciones = df_m['start_end_medium'].value_counts()\n",
    "combinacion_mas_frecuente = frecuencia_combinaciones.idxmax()\n",
    "frecuencia_mas_frecuente = frecuencia_combinaciones.max()\n",
    "print(f\"Most frequent combination of mediums at start and end: {combinacion_mas_frecuente}\")\n",
    "print(f\"Frequency: {frecuencia_mas_frecuente}\")\n"
   ]
  },
  {
   "cell_type": "code",
   "execution_count": null,
   "id": "ff33cab2",
   "metadata": {},
   "outputs": [],
   "source": [
    "df_m['conversion_date'] = pd.to_datetime(df_m['conversion_date'])\n",
    "\n",
    "# Agregar una nueva columna 'day_week' que contenga el nombre del día de la semana\n",
    "df_m['day_week'] = df_m['conversion_date'].dt.day_name()\n",
    "\n",
    "# Mostrar el DataFrame con la nueva columna\n",
    "df_m.head()"
   ]
  },
  {
   "cell_type": "code",
   "execution_count": null,
   "id": "b447d595",
   "metadata": {},
   "outputs": [],
   "source": [
    "# Know the most frequent initial and final channel combination excluding 1-step journeys\n",
    "\n",
    "filtered_df = df_m[df_m['journey_steps'] != 1]\n",
    "start_end_medium_counts = filtered_df.groupby(['start_end_medium']).size().reset_index(name='count')\n",
    "start_end_medium_counts = start_end_medium_counts.sort_values(by='count', ascending=False)\n",
    "start_end_medium_counts.head()"
   ]
  },
  {
   "cell_type": "code",
   "execution_count": null,
   "id": "42e30518",
   "metadata": {},
   "outputs": [],
   "source": [
    "#df_m.to_csv('dataset_by_channel.csv', index=False)\n",
    "df_m.to_excel('dataset_by_channel_excel.xlsx', index=False)"
   ]
  },
  {
   "cell_type": "code",
   "execution_count": null,
   "id": "addafb15",
   "metadata": {},
   "outputs": [],
   "source": [
    "conversion_data['conversion_time_2'] = pd.to_datetime(conversion_data['conversion_time'])\n",
    "conversion_by_hour = conversion_data['conversion_time_2'].dt.hour.value_counts().sort_index()\n",
    "print(\"Conversion counts by hour:\")\n",
    "print(conversion_by_hour)"
   ]
  },
  {
   "cell_type": "code",
   "execution_count": null,
   "id": "0c456747",
   "metadata": {},
   "outputs": [],
   "source": [
    "plt.figure(figsize=(5, 8))\n",
    "conversion_by_hour.plot(kind='barh', color='navy')\n",
    "plt.title('Conversion Counts by Hour')\n",
    "plt.xlabel('Number of Conversions')\n",
    "plt.ylabel('Hour of the Day')\n",
    "plt.yticks(rotation=0)\n",
    "plt.grid(axis='x', linestyle='--', alpha=0.7)\n",
    "plt.show()\n",
    "\n"
   ]
  },
  {
   "cell_type": "code",
   "execution_count": null,
   "id": "d77030cc",
   "metadata": {},
   "outputs": [],
   "source": []
  }
 ],
 "metadata": {
  "kernelspec": {
   "display_name": "Python 3 (ipykernel)",
   "language": "python",
   "name": "python3"
  },
  "language_info": {
   "codemirror_mode": {
    "name": "ipython",
    "version": 3
   },
   "file_extension": ".py",
   "mimetype": "text/x-python",
   "name": "python",
   "nbconvert_exporter": "python",
   "pygments_lexer": "ipython3",
   "version": "3.10.9"
  }
 },
 "nbformat": 4,
 "nbformat_minor": 5
}
