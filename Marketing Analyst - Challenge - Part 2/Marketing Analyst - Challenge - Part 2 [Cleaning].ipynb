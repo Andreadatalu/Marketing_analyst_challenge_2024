{
 "cells": [
  {
   "cell_type": "code",
   "execution_count": 1,
   "id": "e1cdc5dd",
   "metadata": {},
   "outputs": [],
   "source": [
    "import pandas as pd\n",
    "import numpy as np"
   ]
  },
  {
   "cell_type": "code",
   "execution_count": 2,
   "id": "e67168dc",
   "metadata": {},
   "outputs": [],
   "source": [
    "states = pd.read_csv('states.csv')\n",
    "conversion_paths = pd.read_csv('conversion_paths.csv')"
   ]
  },
  {
   "cell_type": "markdown",
   "id": "60cdbe76",
   "metadata": {},
   "source": [
    "# - Cleaning States Data"
   ]
  },
  {
   "cell_type": "markdown",
   "id": "904777a7",
   "metadata": {},
   "source": [
    "   * Data inspection\n",
    "   * Identify and handle duplicates, null values, data types, and value types\n",
    "   * Deal with null values"
   ]
  },
  {
   "cell_type": "code",
   "execution_count": 3,
   "id": "1fcc19f4",
   "metadata": {},
   "outputs": [
    {
     "data": {
      "text/plain": [
       "(184882, 2)"
      ]
     },
     "metadata": {},
     "output_type": "display_data"
    },
    {
     "data": {
      "text/html": [
       "<div>\n",
       "<style scoped>\n",
       "    .dataframe tbody tr th:only-of-type {\n",
       "        vertical-align: middle;\n",
       "    }\n",
       "\n",
       "    .dataframe tbody tr th {\n",
       "        vertical-align: top;\n",
       "    }\n",
       "\n",
       "    .dataframe thead th {\n",
       "        text-align: right;\n",
       "    }\n",
       "</style>\n",
       "<table border=\"1\" class=\"dataframe\">\n",
       "  <thead>\n",
       "    <tr style=\"text-align: right;\">\n",
       "      <th></th>\n",
       "      <th>user_pseudo_id</th>\n",
       "      <th>state</th>\n",
       "    </tr>\n",
       "  </thead>\n",
       "  <tbody>\n",
       "    <tr>\n",
       "      <th>0</th>\n",
       "      <td>hVFl1B9VCClNRvIkpxOUfhB9P/6a832e1Dc2ZX+YGNDCah...</td>\n",
       "      <td>North Dakota</td>\n",
       "    </tr>\n",
       "    <tr>\n",
       "      <th>1</th>\n",
       "      <td>KBEwoksttJ+YiA6EFk0EiR5d7LIfHYuTcD9jFLFgG/a2gr...</td>\n",
       "      <td>Maryland</td>\n",
       "    </tr>\n",
       "    <tr>\n",
       "      <th>2</th>\n",
       "      <td>S27mHCNkECsdX3td8QrOEplOyacPaiMNSnSiYkrPyIq7Xe...</td>\n",
       "      <td>New Jersey</td>\n",
       "    </tr>\n",
       "    <tr>\n",
       "      <th>3</th>\n",
       "      <td>1AkFYd/UnL/x3YVszCg6XQdvR0vrzdb37m809BpOSpqeZJ...</td>\n",
       "      <td>Nevada</td>\n",
       "    </tr>\n",
       "    <tr>\n",
       "      <th>4</th>\n",
       "      <td>w6IqLfvEa1J/i6mHkJvoNbL4/FDZM6hFOUmj7rekuj2sXe...</td>\n",
       "      <td>West Virginia</td>\n",
       "    </tr>\n",
       "  </tbody>\n",
       "</table>\n",
       "</div>"
      ],
      "text/plain": [
       "                                      user_pseudo_id          state\n",
       "0  hVFl1B9VCClNRvIkpxOUfhB9P/6a832e1Dc2ZX+YGNDCah...   North Dakota\n",
       "1  KBEwoksttJ+YiA6EFk0EiR5d7LIfHYuTcD9jFLFgG/a2gr...       Maryland\n",
       "2  S27mHCNkECsdX3td8QrOEplOyacPaiMNSnSiYkrPyIq7Xe...     New Jersey\n",
       "3  1AkFYd/UnL/x3YVszCg6XQdvR0vrzdb37m809BpOSpqeZJ...         Nevada\n",
       "4  w6IqLfvEa1J/i6mHkJvoNbL4/FDZM6hFOUmj7rekuj2sXe...  West Virginia"
      ]
     },
     "execution_count": 3,
     "metadata": {},
     "output_type": "execute_result"
    }
   ],
   "source": [
    "display(states.shape)\n",
    "states.head(5)"
   ]
  },
  {
   "cell_type": "code",
   "execution_count": 4,
   "id": "b16273b4",
   "metadata": {},
   "outputs": [
    {
     "data": {
      "text/plain": [
       "37432"
      ]
     },
     "execution_count": 4,
     "metadata": {},
     "output_type": "execute_result"
    }
   ],
   "source": [
    "duplicates = states.duplicated(subset=['user_pseudo_id'], keep=False)\n",
    "duplicates.sum()"
   ]
  },
  {
   "cell_type": "code",
   "execution_count": 5,
   "id": "424d9dea",
   "metadata": {},
   "outputs": [
    {
     "data": {
      "text/plain": [
       "user_pseudo_id        0\n",
       "state             46008\n",
       "dtype: int64"
      ]
     },
     "execution_count": 5,
     "metadata": {},
     "output_type": "execute_result"
    }
   ],
   "source": [
    "null_data = states.isnull().sum()\n",
    "null_data"
   ]
  },
  {
   "cell_type": "code",
   "execution_count": 6,
   "id": "2a88e864",
   "metadata": {},
   "outputs": [
    {
     "name": "stdout",
     "output_type": "stream",
     "text": [
      "<class 'pandas.core.frame.DataFrame'>\n",
      "RangeIndex: 184882 entries, 0 to 184881\n",
      "Data columns (total 2 columns):\n",
      " #   Column          Non-Null Count   Dtype \n",
      "---  ------          --------------   ----- \n",
      " 0   user_pseudo_id  184882 non-null  object\n",
      " 1   state           138874 non-null  object\n",
      "dtypes: object(2)\n",
      "memory usage: 2.8+ MB\n"
     ]
    }
   ],
   "source": [
    "states.info()"
   ]
  },
  {
   "cell_type": "code",
   "execution_count": 7,
   "id": "bfd4d431",
   "metadata": {},
   "outputs": [
    {
     "data": {
      "text/html": [
       "<div>\n",
       "<style scoped>\n",
       "    .dataframe tbody tr th:only-of-type {\n",
       "        vertical-align: middle;\n",
       "    }\n",
       "\n",
       "    .dataframe tbody tr th {\n",
       "        vertical-align: top;\n",
       "    }\n",
       "\n",
       "    .dataframe thead th {\n",
       "        text-align: right;\n",
       "    }\n",
       "</style>\n",
       "<table border=\"1\" class=\"dataframe\">\n",
       "  <thead>\n",
       "    <tr style=\"text-align: right;\">\n",
       "      <th></th>\n",
       "      <th>user_pseudo_id</th>\n",
       "      <th>state</th>\n",
       "    </tr>\n",
       "  </thead>\n",
       "  <tbody>\n",
       "    <tr>\n",
       "      <th>count</th>\n",
       "      <td>184882</td>\n",
       "      <td>138874</td>\n",
       "    </tr>\n",
       "    <tr>\n",
       "      <th>unique</th>\n",
       "      <td>158504</td>\n",
       "      <td>51</td>\n",
       "    </tr>\n",
       "    <tr>\n",
       "      <th>top</th>\n",
       "      <td>Dlmj/GskOfHS15HDgK8nr+rDdpe2c5QgNVBm4uBlJBBi+P...</td>\n",
       "      <td>Kansas</td>\n",
       "    </tr>\n",
       "    <tr>\n",
       "      <th>freq</th>\n",
       "      <td>24</td>\n",
       "      <td>15389</td>\n",
       "    </tr>\n",
       "  </tbody>\n",
       "</table>\n",
       "</div>"
      ],
      "text/plain": [
       "                                           user_pseudo_id   state\n",
       "count                                              184882  138874\n",
       "unique                                             158504      51\n",
       "top     Dlmj/GskOfHS15HDgK8nr+rDdpe2c5QgNVBm4uBlJBBi+P...  Kansas\n",
       "freq                                                   24   15389"
      ]
     },
     "execution_count": 7,
     "metadata": {},
     "output_type": "execute_result"
    }
   ],
   "source": [
    "states.describe()"
   ]
  },
  {
   "cell_type": "code",
   "execution_count": 8,
   "id": "2f27ec08",
   "metadata": {},
   "outputs": [],
   "source": [
    "#print(states['state'].value_counts())"
   ]
  },
  {
   "cell_type": "code",
   "execution_count": 9,
   "id": "11ca1b36",
   "metadata": {},
   "outputs": [
    {
     "data": {
      "text/html": [
       "<div>\n",
       "<style scoped>\n",
       "    .dataframe tbody tr th:only-of-type {\n",
       "        vertical-align: middle;\n",
       "    }\n",
       "\n",
       "    .dataframe tbody tr th {\n",
       "        vertical-align: top;\n",
       "    }\n",
       "\n",
       "    .dataframe thead th {\n",
       "        text-align: right;\n",
       "    }\n",
       "</style>\n",
       "<table border=\"1\" class=\"dataframe\">\n",
       "  <thead>\n",
       "    <tr style=\"text-align: right;\">\n",
       "      <th></th>\n",
       "      <th>user_pseudo_id</th>\n",
       "      <th>state</th>\n",
       "      <th>user</th>\n",
       "    </tr>\n",
       "  </thead>\n",
       "  <tbody>\n",
       "    <tr>\n",
       "      <th>0</th>\n",
       "      <td>hVFl1B9VCClNRvIkpxOUfhB9P/6a832e1Dc2ZX+YGNDCah...</td>\n",
       "      <td>North Dakota</td>\n",
       "      <td>AyzpcFfQ==</td>\n",
       "    </tr>\n",
       "    <tr>\n",
       "      <th>1</th>\n",
       "      <td>KBEwoksttJ+YiA6EFk0EiR5d7LIfHYuTcD9jFLFgG/a2gr...</td>\n",
       "      <td>Maryland</td>\n",
       "      <td>VogQxlgg==</td>\n",
       "    </tr>\n",
       "    <tr>\n",
       "      <th>2</th>\n",
       "      <td>S27mHCNkECsdX3td8QrOEplOyacPaiMNSnSiYkrPyIq7Xe...</td>\n",
       "      <td>New Jersey</td>\n",
       "      <td>LduK164g==</td>\n",
       "    </tr>\n",
       "    <tr>\n",
       "      <th>3</th>\n",
       "      <td>1AkFYd/UnL/x3YVszCg6XQdvR0vrzdb37m809BpOSpqeZJ...</td>\n",
       "      <td>Nevada</td>\n",
       "      <td>s73k8RsQ==</td>\n",
       "    </tr>\n",
       "    <tr>\n",
       "      <th>4</th>\n",
       "      <td>w6IqLfvEa1J/i6mHkJvoNbL4/FDZM6hFOUmj7rekuj2sXe...</td>\n",
       "      <td>West Virginia</td>\n",
       "      <td>JVJ7yOYQ==</td>\n",
       "    </tr>\n",
       "  </tbody>\n",
       "</table>\n",
       "</div>"
      ],
      "text/plain": [
       "                                      user_pseudo_id          state  \\\n",
       "0  hVFl1B9VCClNRvIkpxOUfhB9P/6a832e1Dc2ZX+YGNDCah...   North Dakota   \n",
       "1  KBEwoksttJ+YiA6EFk0EiR5d7LIfHYuTcD9jFLFgG/a2gr...       Maryland   \n",
       "2  S27mHCNkECsdX3td8QrOEplOyacPaiMNSnSiYkrPyIq7Xe...     New Jersey   \n",
       "3  1AkFYd/UnL/x3YVszCg6XQdvR0vrzdb37m809BpOSpqeZJ...         Nevada   \n",
       "4  w6IqLfvEa1J/i6mHkJvoNbL4/FDZM6hFOUmj7rekuj2sXe...  West Virginia   \n",
       "\n",
       "         user  \n",
       "0  AyzpcFfQ==  \n",
       "1  VogQxlgg==  \n",
       "2  LduK164g==  \n",
       "3  s73k8RsQ==  \n",
       "4  JVJ7yOYQ==  "
      ]
     },
     "execution_count": 9,
     "metadata": {},
     "output_type": "execute_result"
    }
   ],
   "source": [
    "states_new = states.copy()\n",
    "states_new['user'] = states_new['user_pseudo_id'].str[-10:]\n",
    "states_new.head()"
   ]
  },
  {
   "cell_type": "code",
   "execution_count": 10,
   "id": "68fa04ea",
   "metadata": {},
   "outputs": [
    {
     "data": {
      "text/plain": [
       "37432"
      ]
     },
     "execution_count": 10,
     "metadata": {},
     "output_type": "execute_result"
    }
   ],
   "source": [
    "states_new.duplicated(subset=['user_pseudo_id'], keep=False).sum()"
   ]
  },
  {
   "cell_type": "code",
   "execution_count": 11,
   "id": "a0f3137f",
   "metadata": {},
   "outputs": [],
   "source": [
    "states_new['user'] = states_new['user'].astype('category')"
   ]
  },
  {
   "cell_type": "code",
   "execution_count": 12,
   "id": "b3d870fa",
   "metadata": {},
   "outputs": [],
   "source": [
    "# Group by 'user' and fill null values in 'state' with the first occurrence within each group\n",
    "states_new['state_fill'] = states_new.groupby('user')['state'].transform(lambda x: x.fillna(method='ffill').fillna(method='bfill'))"
   ]
  },
  {
   "cell_type": "code",
   "execution_count": null,
   "id": "f73e9806",
   "metadata": {},
   "outputs": [],
   "source": [
    "states_new['state_fill'] = states_new['state']\n",
    "\n",
    "# Itera sobre cada fila del DataFrame\n",
    "for index, row in states_new.iterrows():\n",
    "    # Check if the value of 'state' is null for this row\n",
    "    if pd.isnull(row['state']):\n",
    "        # Find other records with the same user_pseudo_id that have an assigned state\n",
    "        same_user_with_state = states_new[(states_new['user'] == row['user']) & (~states_new['state'].isnull())]\n",
    "        \n",
    "        # If at least one record with an assigned state is found, take the first value and assign it to 'state_fill' in this row\n",
    "        if len(same_user_with_state) > 0:\n",
    "            new_state = same_user_with_state.iloc[0]['state']\n",
    "            states_new.at[index, 'state_fill'] = new_state"
   ]
  },
  {
   "cell_type": "code",
   "execution_count": 13,
   "id": "db0ba90b",
   "metadata": {},
   "outputs": [],
   "source": [
    "states_new['state_fill'].fillna('Other', inplace=True)"
   ]
  },
  {
   "cell_type": "code",
   "execution_count": 14,
   "id": "427c689d",
   "metadata": {},
   "outputs": [
    {
     "data": {
      "text/plain": [
       "user_pseudo_id        0\n",
       "state             46008\n",
       "user                  0\n",
       "state_fill            0\n",
       "dtype: int64"
      ]
     },
     "execution_count": 14,
     "metadata": {},
     "output_type": "execute_result"
    }
   ],
   "source": [
    "states_new.isnull().sum()"
   ]
  },
  {
   "cell_type": "code",
   "execution_count": 16,
   "id": "b8a60d32",
   "metadata": {},
   "outputs": [],
   "source": [
    "#print(states_new['state_fill'].value_counts())"
   ]
  },
  {
   "cell_type": "code",
   "execution_count": 17,
   "id": "558ffb69",
   "metadata": {
    "scrolled": true
   },
   "outputs": [
    {
     "data": {
      "text/html": [
       "<div>\n",
       "<style scoped>\n",
       "    .dataframe tbody tr th:only-of-type {\n",
       "        vertical-align: middle;\n",
       "    }\n",
       "\n",
       "    .dataframe tbody tr th {\n",
       "        vertical-align: top;\n",
       "    }\n",
       "\n",
       "    .dataframe thead th {\n",
       "        text-align: right;\n",
       "    }\n",
       "</style>\n",
       "<table border=\"1\" class=\"dataframe\">\n",
       "  <thead>\n",
       "    <tr style=\"text-align: right;\">\n",
       "      <th></th>\n",
       "      <th>user_pseudo_id</th>\n",
       "      <th>state</th>\n",
       "      <th>user</th>\n",
       "      <th>state_fill</th>\n",
       "    </tr>\n",
       "  </thead>\n",
       "  <tbody>\n",
       "    <tr>\n",
       "      <th>0</th>\n",
       "      <td>hVFl1B9VCClNRvIkpxOUfhB9P/6a832e1Dc2ZX+YGNDCah...</td>\n",
       "      <td>North Dakota</td>\n",
       "      <td>AyzpcFfQ==</td>\n",
       "      <td>North Dakota</td>\n",
       "    </tr>\n",
       "    <tr>\n",
       "      <th>1</th>\n",
       "      <td>KBEwoksttJ+YiA6EFk0EiR5d7LIfHYuTcD9jFLFgG/a2gr...</td>\n",
       "      <td>Maryland</td>\n",
       "      <td>VogQxlgg==</td>\n",
       "      <td>Maryland</td>\n",
       "    </tr>\n",
       "    <tr>\n",
       "      <th>2</th>\n",
       "      <td>S27mHCNkECsdX3td8QrOEplOyacPaiMNSnSiYkrPyIq7Xe...</td>\n",
       "      <td>New Jersey</td>\n",
       "      <td>LduK164g==</td>\n",
       "      <td>New Jersey</td>\n",
       "    </tr>\n",
       "    <tr>\n",
       "      <th>3</th>\n",
       "      <td>1AkFYd/UnL/x3YVszCg6XQdvR0vrzdb37m809BpOSpqeZJ...</td>\n",
       "      <td>Nevada</td>\n",
       "      <td>s73k8RsQ==</td>\n",
       "      <td>Nevada</td>\n",
       "    </tr>\n",
       "    <tr>\n",
       "      <th>4</th>\n",
       "      <td>w6IqLfvEa1J/i6mHkJvoNbL4/FDZM6hFOUmj7rekuj2sXe...</td>\n",
       "      <td>West Virginia</td>\n",
       "      <td>JVJ7yOYQ==</td>\n",
       "      <td>West Virginia</td>\n",
       "    </tr>\n",
       "  </tbody>\n",
       "</table>\n",
       "</div>"
      ],
      "text/plain": [
       "                                      user_pseudo_id          state  \\\n",
       "0  hVFl1B9VCClNRvIkpxOUfhB9P/6a832e1Dc2ZX+YGNDCah...   North Dakota   \n",
       "1  KBEwoksttJ+YiA6EFk0EiR5d7LIfHYuTcD9jFLFgG/a2gr...       Maryland   \n",
       "2  S27mHCNkECsdX3td8QrOEplOyacPaiMNSnSiYkrPyIq7Xe...     New Jersey   \n",
       "3  1AkFYd/UnL/x3YVszCg6XQdvR0vrzdb37m809BpOSpqeZJ...         Nevada   \n",
       "4  w6IqLfvEa1J/i6mHkJvoNbL4/FDZM6hFOUmj7rekuj2sXe...  West Virginia   \n",
       "\n",
       "         user     state_fill  \n",
       "0  AyzpcFfQ==   North Dakota  \n",
       "1  VogQxlgg==       Maryland  \n",
       "2  LduK164g==     New Jersey  \n",
       "3  s73k8RsQ==         Nevada  \n",
       "4  JVJ7yOYQ==  West Virginia  "
      ]
     },
     "execution_count": 17,
     "metadata": {},
     "output_type": "execute_result"
    }
   ],
   "source": [
    "states_new.head()"
   ]
  },
  {
   "cell_type": "code",
   "execution_count": 19,
   "id": "38061833",
   "metadata": {},
   "outputs": [],
   "source": [
    "states_new.to_csv('states_filled.csv', index=False)"
   ]
  },
  {
   "cell_type": "markdown",
   "id": "88ad1628",
   "metadata": {},
   "source": [
    "# - Cleaning Conversion Path Data"
   ]
  },
  {
   "cell_type": "markdown",
   "id": "46456359",
   "metadata": {},
   "source": [
    " * Data inspection\n",
    " * Identify and handle duplicates, null values, data types, and value types\n",
    " * Deal with null values\n",
    " * Normalización del texto en medium path"
   ]
  },
  {
   "cell_type": "code",
   "execution_count": 4,
   "id": "3e044e10",
   "metadata": {},
   "outputs": [
    {
     "data": {
      "text/plain": [
       "(173982, 5)"
      ]
     },
     "metadata": {},
     "output_type": "display_data"
    },
    {
     "data": {
      "text/html": [
       "<div>\n",
       "<style scoped>\n",
       "    .dataframe tbody tr th:only-of-type {\n",
       "        vertical-align: middle;\n",
       "    }\n",
       "\n",
       "    .dataframe tbody tr th {\n",
       "        vertical-align: top;\n",
       "    }\n",
       "\n",
       "    .dataframe thead th {\n",
       "        text-align: right;\n",
       "    }\n",
       "</style>\n",
       "<table border=\"1\" class=\"dataframe\">\n",
       "  <thead>\n",
       "    <tr style=\"text-align: right;\">\n",
       "      <th></th>\n",
       "      <th>user_pseudo_id</th>\n",
       "      <th>medium_path</th>\n",
       "      <th>conversion_flag</th>\n",
       "      <th>first_touchpoint</th>\n",
       "      <th>conversion_timestamp</th>\n",
       "    </tr>\n",
       "  </thead>\n",
       "  <tbody>\n",
       "    <tr>\n",
       "      <th>0</th>\n",
       "      <td>flN8vT0gmTR1v8Ixommd1+u8s4ZvO8No7p7wl0X1v6Y+4z...</td>\n",
       "      <td>NaN</td>\n",
       "      <td>0</td>\n",
       "      <td>2022-12-28 00:00:01.914383 UTC</td>\n",
       "      <td>NaN</td>\n",
       "    </tr>\n",
       "    <tr>\n",
       "      <th>1</th>\n",
       "      <td>rgJvzjwn131LAGM5p0MZLCniNp8xX9VnGk861Dgu1wXNAA...</td>\n",
       "      <td>NaN</td>\n",
       "      <td>0</td>\n",
       "      <td>2022-12-28 00:00:04.792183 UTC</td>\n",
       "      <td>NaN</td>\n",
       "    </tr>\n",
       "    <tr>\n",
       "      <th>2</th>\n",
       "      <td>+JIUpNSpBdH11qifFKE/DwVZ5jozE6X2jJULmP3SZ0APUl...</td>\n",
       "      <td>NaN</td>\n",
       "      <td>0</td>\n",
       "      <td>2022-12-28 00:00:33.063 UTC</td>\n",
       "      <td>NaN</td>\n",
       "    </tr>\n",
       "    <tr>\n",
       "      <th>3</th>\n",
       "      <td>xO4dP3GBXDpOxHNwFIDCBnMKI1cBhsdZH+Eru7eyEoc0o8...</td>\n",
       "      <td>NaN</td>\n",
       "      <td>1</td>\n",
       "      <td>2022-12-28 00:00:52.439504 UTC</td>\n",
       "      <td>2023-01-23 14:16:55.060907 UTC</td>\n",
       "    </tr>\n",
       "    <tr>\n",
       "      <th>4</th>\n",
       "      <td>nP78ikNKi2iu1IJUO+LWIPcoByh3ZWFvlIzIl174i1jCuK...</td>\n",
       "      <td>paidsocial</td>\n",
       "      <td>0</td>\n",
       "      <td>2022-12-28 00:00:52.722434 UTC</td>\n",
       "      <td>NaN</td>\n",
       "    </tr>\n",
       "  </tbody>\n",
       "</table>\n",
       "</div>"
      ],
      "text/plain": [
       "                                      user_pseudo_id medium_path  \\\n",
       "0  flN8vT0gmTR1v8Ixommd1+u8s4ZvO8No7p7wl0X1v6Y+4z...         NaN   \n",
       "1  rgJvzjwn131LAGM5p0MZLCniNp8xX9VnGk861Dgu1wXNAA...         NaN   \n",
       "2  +JIUpNSpBdH11qifFKE/DwVZ5jozE6X2jJULmP3SZ0APUl...         NaN   \n",
       "3  xO4dP3GBXDpOxHNwFIDCBnMKI1cBhsdZH+Eru7eyEoc0o8...         NaN   \n",
       "4  nP78ikNKi2iu1IJUO+LWIPcoByh3ZWFvlIzIl174i1jCuK...  paidsocial   \n",
       "\n",
       "   conversion_flag                first_touchpoint  \\\n",
       "0                0  2022-12-28 00:00:01.914383 UTC   \n",
       "1                0  2022-12-28 00:00:04.792183 UTC   \n",
       "2                0     2022-12-28 00:00:33.063 UTC   \n",
       "3                1  2022-12-28 00:00:52.439504 UTC   \n",
       "4                0  2022-12-28 00:00:52.722434 UTC   \n",
       "\n",
       "             conversion_timestamp  \n",
       "0                             NaN  \n",
       "1                             NaN  \n",
       "2                             NaN  \n",
       "3  2023-01-23 14:16:55.060907 UTC  \n",
       "4                             NaN  "
      ]
     },
     "execution_count": 4,
     "metadata": {},
     "output_type": "execute_result"
    }
   ],
   "source": [
    "display(conversion_paths.shape)\n",
    "conversion_paths.head(5)"
   ]
  },
  {
   "cell_type": "code",
   "execution_count": 5,
   "id": "58abf492",
   "metadata": {},
   "outputs": [],
   "source": [
    "conversion_paths['medium_path'] = conversion_paths['medium_path'].fillna('no medium')"
   ]
  },
  {
   "cell_type": "code",
   "execution_count": 6,
   "id": "4aec5611",
   "metadata": {},
   "outputs": [
    {
     "name": "stdout",
     "output_type": "stream",
     "text": [
      "<class 'pandas.core.frame.DataFrame'>\n",
      "RangeIndex: 173982 entries, 0 to 173981\n",
      "Data columns (total 5 columns):\n",
      " #   Column                Non-Null Count   Dtype \n",
      "---  ------                --------------   ----- \n",
      " 0   user_pseudo_id        173982 non-null  object\n",
      " 1   medium_path           173982 non-null  object\n",
      " 2   conversion_flag       173982 non-null  int64 \n",
      " 3   first_touchpoint      173982 non-null  object\n",
      " 4   conversion_timestamp  5475 non-null    object\n",
      "dtypes: int64(1), object(4)\n",
      "memory usage: 6.6+ MB\n"
     ]
    }
   ],
   "source": [
    "conversion_paths.info()"
   ]
  },
  {
   "cell_type": "code",
   "execution_count": 7,
   "id": "b92bc19e",
   "metadata": {},
   "outputs": [
    {
     "data": {
      "text/plain": [
       "0"
      ]
     },
     "execution_count": 7,
     "metadata": {},
     "output_type": "execute_result"
    }
   ],
   "source": [
    "conversion_paths.duplicated(subset=['user_pseudo_id'], keep=False).sum()"
   ]
  },
  {
   "cell_type": "code",
   "execution_count": 8,
   "id": "1eb24176",
   "metadata": {},
   "outputs": [
    {
     "data": {
      "text/plain": [
       "user_pseudo_id               0\n",
       "medium_path                  0\n",
       "conversion_flag              0\n",
       "first_touchpoint             0\n",
       "conversion_timestamp    168507\n",
       "dtype: int64"
      ]
     },
     "execution_count": 8,
     "metadata": {},
     "output_type": "execute_result"
    }
   ],
   "source": [
    "conversion_paths.isnull().sum()"
   ]
  },
  {
   "cell_type": "code",
   "execution_count": 9,
   "id": "dcfaffb6",
   "metadata": {},
   "outputs": [
    {
     "data": {
      "text/html": [
       "<div>\n",
       "<style scoped>\n",
       "    .dataframe tbody tr th:only-of-type {\n",
       "        vertical-align: middle;\n",
       "    }\n",
       "\n",
       "    .dataframe tbody tr th {\n",
       "        vertical-align: top;\n",
       "    }\n",
       "\n",
       "    .dataframe thead th {\n",
       "        text-align: right;\n",
       "    }\n",
       "</style>\n",
       "<table border=\"1\" class=\"dataframe\">\n",
       "  <thead>\n",
       "    <tr style=\"text-align: right;\">\n",
       "      <th></th>\n",
       "      <th>user_pseudo_id</th>\n",
       "      <th>medium_path</th>\n",
       "      <th>conversion_flag</th>\n",
       "      <th>first_touchpoint</th>\n",
       "      <th>conversion_timestamp</th>\n",
       "    </tr>\n",
       "  </thead>\n",
       "  <tbody>\n",
       "    <tr>\n",
       "      <th>0</th>\n",
       "      <td>flN8vT0gmTR1v8Ixommd1+u8s4ZvO8No7p7wl0X1v6Y+4z...</td>\n",
       "      <td>no medium</td>\n",
       "      <td>0</td>\n",
       "      <td>2022-12-27 19:00:01.914383-05:00</td>\n",
       "      <td>NaT</td>\n",
       "    </tr>\n",
       "    <tr>\n",
       "      <th>1</th>\n",
       "      <td>rgJvzjwn131LAGM5p0MZLCniNp8xX9VnGk861Dgu1wXNAA...</td>\n",
       "      <td>no medium</td>\n",
       "      <td>0</td>\n",
       "      <td>2022-12-27 19:00:04.792183-05:00</td>\n",
       "      <td>NaT</td>\n",
       "    </tr>\n",
       "    <tr>\n",
       "      <th>2</th>\n",
       "      <td>+JIUpNSpBdH11qifFKE/DwVZ5jozE6X2jJULmP3SZ0APUl...</td>\n",
       "      <td>no medium</td>\n",
       "      <td>0</td>\n",
       "      <td>2022-12-27 19:00:33.063000-05:00</td>\n",
       "      <td>NaT</td>\n",
       "    </tr>\n",
       "    <tr>\n",
       "      <th>3</th>\n",
       "      <td>xO4dP3GBXDpOxHNwFIDCBnMKI1cBhsdZH+Eru7eyEoc0o8...</td>\n",
       "      <td>no medium</td>\n",
       "      <td>1</td>\n",
       "      <td>2022-12-27 19:00:52.439504-05:00</td>\n",
       "      <td>2023-01-23 09:16:55.060907-05:00</td>\n",
       "    </tr>\n",
       "    <tr>\n",
       "      <th>4</th>\n",
       "      <td>nP78ikNKi2iu1IJUO+LWIPcoByh3ZWFvlIzIl174i1jCuK...</td>\n",
       "      <td>paidsocial</td>\n",
       "      <td>0</td>\n",
       "      <td>2022-12-27 19:00:52.722434-05:00</td>\n",
       "      <td>NaT</td>\n",
       "    </tr>\n",
       "  </tbody>\n",
       "</table>\n",
       "</div>"
      ],
      "text/plain": [
       "                                      user_pseudo_id medium_path  \\\n",
       "0  flN8vT0gmTR1v8Ixommd1+u8s4ZvO8No7p7wl0X1v6Y+4z...   no medium   \n",
       "1  rgJvzjwn131LAGM5p0MZLCniNp8xX9VnGk861Dgu1wXNAA...   no medium   \n",
       "2  +JIUpNSpBdH11qifFKE/DwVZ5jozE6X2jJULmP3SZ0APUl...   no medium   \n",
       "3  xO4dP3GBXDpOxHNwFIDCBnMKI1cBhsdZH+Eru7eyEoc0o8...   no medium   \n",
       "4  nP78ikNKi2iu1IJUO+LWIPcoByh3ZWFvlIzIl174i1jCuK...  paidsocial   \n",
       "\n",
       "   conversion_flag                 first_touchpoint  \\\n",
       "0                0 2022-12-27 19:00:01.914383-05:00   \n",
       "1                0 2022-12-27 19:00:04.792183-05:00   \n",
       "2                0 2022-12-27 19:00:33.063000-05:00   \n",
       "3                1 2022-12-27 19:00:52.439504-05:00   \n",
       "4                0 2022-12-27 19:00:52.722434-05:00   \n",
       "\n",
       "              conversion_timestamp  \n",
       "0                              NaT  \n",
       "1                              NaT  \n",
       "2                              NaT  \n",
       "3 2023-01-23 09:16:55.060907-05:00  \n",
       "4                              NaT  "
      ]
     },
     "execution_count": 9,
     "metadata": {},
     "output_type": "execute_result"
    }
   ],
   "source": [
    "import pytz\n",
    "\n",
    "# Create a time zone object for the United States time zone\n",
    "us_timezone = pytz.timezone('US/Eastern')\n",
    "\n",
    "# Convert date and time columns to datetime type if they are not already\n",
    "conversion_paths['first_touchpoint'] = pd.to_datetime(conversion_paths['first_touchpoint'])\n",
    "conversion_paths['conversion_timestamp'] = pd.to_datetime(conversion_paths['conversion_timestamp'])\n",
    "\n",
    "# Convert date and time columns to US time zone\n",
    "conversion_paths['first_touchpoint'] = conversion_paths['first_touchpoint'].dt.tz_convert(us_timezone)\n",
    "conversion_paths['conversion_timestamp'] = conversion_paths['conversion_timestamp'].dt.tz_convert(us_timezone)\n",
    "\n",
    "conversion_paths.head()\n"
   ]
  },
  {
   "cell_type": "code",
   "execution_count": 12,
   "id": "9db104bb",
   "metadata": {},
   "outputs": [],
   "source": [
    "# Convert text object columns to datetime format\n",
    "conversion_paths['first_touchpoint'] = pd.to_datetime(conversion_paths['first_touchpoint'])\n",
    "# Extract date and time components from 'first_touchpoint' and 'conversion_timestamp' and create new columns with datetime data type\n",
    "conversion_paths['first_touchpoint_date'] = conversion_paths['first_touchpoint'].dt.date.astype('datetime64')\n",
    "conversion_paths['first_touchpoint_time'] = conversion_paths['first_touchpoint'].dt.strftime('%H:%M')\n",
    "\n",
    "#conversion_paths['first_touchpoint_date']\n",
    "#conversion_paths['first_touchpoint_time']"
   ]
  },
  {
   "cell_type": "code",
   "execution_count": 13,
   "id": "59b1a2a3",
   "metadata": {},
   "outputs": [
    {
     "data": {
      "text/plain": [
       "0               NaT\n",
       "1               NaT\n",
       "2               NaT\n",
       "3        2023-01-23\n",
       "4               NaT\n",
       "            ...    \n",
       "173977          NaT\n",
       "173978          NaT\n",
       "173979          NaT\n",
       "173980          NaT\n",
       "173981          NaT\n",
       "Name: conversion_date, Length: 173982, dtype: datetime64[ns]"
      ]
     },
     "execution_count": 13,
     "metadata": {},
     "output_type": "execute_result"
    }
   ],
   "source": [
    "# Convert text object columns to datetime format\n",
    "conversion_paths['conversion_timestamp'] = pd.to_datetime(conversion_paths['conversion_timestamp'])\n",
    "\n",
    "# Extract date and time components from 'first_touchpoint' and 'conversion_timestamp' and create new columns with datetime data type\n",
    "conversion_paths['conversion_date'] = conversion_paths['conversion_timestamp'].dt.date.astype('datetime64')\n",
    "conversion_paths['conversion_time'] = conversion_paths['conversion_timestamp'].dt.strftime('%H:%M')\n",
    "\n",
    "conversion_paths['conversion_date']\n",
    "#conversion_paths['conversion_time']"
   ]
  },
  {
   "cell_type": "code",
   "execution_count": 14,
   "id": "73fc5284",
   "metadata": {},
   "outputs": [],
   "source": [
    "# Standardize texts in Medium Path\n",
    "conversion_paths['medium_path'] = conversion_paths['medium_path'].str.lower()  \n",
    "conversion_paths['medium_path'] = conversion_paths['medium_path'].str.strip()"
   ]
  },
  {
   "cell_type": "code",
   "execution_count": 15,
   "id": "f82331f5",
   "metadata": {},
   "outputs": [
    {
     "data": {
      "text/html": [
       "<div>\n",
       "<style scoped>\n",
       "    .dataframe tbody tr th:only-of-type {\n",
       "        vertical-align: middle;\n",
       "    }\n",
       "\n",
       "    .dataframe tbody tr th {\n",
       "        vertical-align: top;\n",
       "    }\n",
       "\n",
       "    .dataframe thead th {\n",
       "        text-align: right;\n",
       "    }\n",
       "</style>\n",
       "<table border=\"1\" class=\"dataframe\">\n",
       "  <thead>\n",
       "    <tr style=\"text-align: right;\">\n",
       "      <th></th>\n",
       "      <th>user_pseudo_id</th>\n",
       "      <th>medium_path</th>\n",
       "      <th>conversion_flag</th>\n",
       "      <th>first_touchpoint</th>\n",
       "      <th>conversion_timestamp</th>\n",
       "      <th>first_touchpoint_date</th>\n",
       "      <th>first_touchpoint_time</th>\n",
       "      <th>conversion_date</th>\n",
       "      <th>conversion_time</th>\n",
       "    </tr>\n",
       "  </thead>\n",
       "  <tbody>\n",
       "    <tr>\n",
       "      <th>0</th>\n",
       "      <td>flN8vT0gmTR1v8Ixommd1+u8s4ZvO8No7p7wl0X1v6Y+4z...</td>\n",
       "      <td>no medium</td>\n",
       "      <td>0</td>\n",
       "      <td>2022-12-27 19:00:01.914383-05:00</td>\n",
       "      <td>NaT</td>\n",
       "      <td>2022-12-27</td>\n",
       "      <td>19:00</td>\n",
       "      <td>NaT</td>\n",
       "      <td>NaN</td>\n",
       "    </tr>\n",
       "    <tr>\n",
       "      <th>1</th>\n",
       "      <td>rgJvzjwn131LAGM5p0MZLCniNp8xX9VnGk861Dgu1wXNAA...</td>\n",
       "      <td>no medium</td>\n",
       "      <td>0</td>\n",
       "      <td>2022-12-27 19:00:04.792183-05:00</td>\n",
       "      <td>NaT</td>\n",
       "      <td>2022-12-27</td>\n",
       "      <td>19:00</td>\n",
       "      <td>NaT</td>\n",
       "      <td>NaN</td>\n",
       "    </tr>\n",
       "    <tr>\n",
       "      <th>2</th>\n",
       "      <td>+JIUpNSpBdH11qifFKE/DwVZ5jozE6X2jJULmP3SZ0APUl...</td>\n",
       "      <td>no medium</td>\n",
       "      <td>0</td>\n",
       "      <td>2022-12-27 19:00:33.063000-05:00</td>\n",
       "      <td>NaT</td>\n",
       "      <td>2022-12-27</td>\n",
       "      <td>19:00</td>\n",
       "      <td>NaT</td>\n",
       "      <td>NaN</td>\n",
       "    </tr>\n",
       "    <tr>\n",
       "      <th>3</th>\n",
       "      <td>xO4dP3GBXDpOxHNwFIDCBnMKI1cBhsdZH+Eru7eyEoc0o8...</td>\n",
       "      <td>no medium</td>\n",
       "      <td>1</td>\n",
       "      <td>2022-12-27 19:00:52.439504-05:00</td>\n",
       "      <td>2023-01-23 09:16:55.060907-05:00</td>\n",
       "      <td>2022-12-27</td>\n",
       "      <td>19:00</td>\n",
       "      <td>2023-01-23</td>\n",
       "      <td>09:16</td>\n",
       "    </tr>\n",
       "    <tr>\n",
       "      <th>4</th>\n",
       "      <td>nP78ikNKi2iu1IJUO+LWIPcoByh3ZWFvlIzIl174i1jCuK...</td>\n",
       "      <td>paidsocial</td>\n",
       "      <td>0</td>\n",
       "      <td>2022-12-27 19:00:52.722434-05:00</td>\n",
       "      <td>NaT</td>\n",
       "      <td>2022-12-27</td>\n",
       "      <td>19:00</td>\n",
       "      <td>NaT</td>\n",
       "      <td>NaN</td>\n",
       "    </tr>\n",
       "  </tbody>\n",
       "</table>\n",
       "</div>"
      ],
      "text/plain": [
       "                                      user_pseudo_id medium_path  \\\n",
       "0  flN8vT0gmTR1v8Ixommd1+u8s4ZvO8No7p7wl0X1v6Y+4z...   no medium   \n",
       "1  rgJvzjwn131LAGM5p0MZLCniNp8xX9VnGk861Dgu1wXNAA...   no medium   \n",
       "2  +JIUpNSpBdH11qifFKE/DwVZ5jozE6X2jJULmP3SZ0APUl...   no medium   \n",
       "3  xO4dP3GBXDpOxHNwFIDCBnMKI1cBhsdZH+Eru7eyEoc0o8...   no medium   \n",
       "4  nP78ikNKi2iu1IJUO+LWIPcoByh3ZWFvlIzIl174i1jCuK...  paidsocial   \n",
       "\n",
       "   conversion_flag                 first_touchpoint  \\\n",
       "0                0 2022-12-27 19:00:01.914383-05:00   \n",
       "1                0 2022-12-27 19:00:04.792183-05:00   \n",
       "2                0 2022-12-27 19:00:33.063000-05:00   \n",
       "3                1 2022-12-27 19:00:52.439504-05:00   \n",
       "4                0 2022-12-27 19:00:52.722434-05:00   \n",
       "\n",
       "              conversion_timestamp first_touchpoint_date  \\\n",
       "0                              NaT            2022-12-27   \n",
       "1                              NaT            2022-12-27   \n",
       "2                              NaT            2022-12-27   \n",
       "3 2023-01-23 09:16:55.060907-05:00            2022-12-27   \n",
       "4                              NaT            2022-12-27   \n",
       "\n",
       "  first_touchpoint_time conversion_date conversion_time  \n",
       "0                 19:00             NaT             NaN  \n",
       "1                 19:00             NaT             NaN  \n",
       "2                 19:00             NaT             NaN  \n",
       "3                 19:00      2023-01-23           09:16  \n",
       "4                 19:00             NaT             NaN  "
      ]
     },
     "execution_count": 15,
     "metadata": {},
     "output_type": "execute_result"
    }
   ],
   "source": [
    "# Validate the dataset for completeness and accuracy\n",
    "conversion_paths.head()"
   ]
  },
  {
   "cell_type": "code",
   "execution_count": 15,
   "id": "1f59230c",
   "metadata": {},
   "outputs": [],
   "source": [
    "# Replace null values with a 'no conversion' flag\n",
    "#conversion_paths['conversion_date'].fillna('no conversion', inplace=True)\n",
    "#conversion_paths['conversion_time'].fillna('no conversion', inplace=True)"
   ]
  },
  {
   "cell_type": "code",
   "execution_count": 16,
   "id": "1f7947cf",
   "metadata": {},
   "outputs": [],
   "source": [
    "#Drop the columns \n",
    "conversion_paths.drop(columns=['first_touchpoint', 'conversion_timestamp'], inplace=True)"
   ]
  },
  {
   "cell_type": "code",
   "execution_count": 17,
   "id": "564a5463",
   "metadata": {},
   "outputs": [
    {
     "data": {
      "text/html": [
       "<div>\n",
       "<style scoped>\n",
       "    .dataframe tbody tr th:only-of-type {\n",
       "        vertical-align: middle;\n",
       "    }\n",
       "\n",
       "    .dataframe tbody tr th {\n",
       "        vertical-align: top;\n",
       "    }\n",
       "\n",
       "    .dataframe thead th {\n",
       "        text-align: right;\n",
       "    }\n",
       "</style>\n",
       "<table border=\"1\" class=\"dataframe\">\n",
       "  <thead>\n",
       "    <tr style=\"text-align: right;\">\n",
       "      <th></th>\n",
       "      <th>user_pseudo_id</th>\n",
       "      <th>medium_path</th>\n",
       "      <th>conversion_flag</th>\n",
       "      <th>first_touchpoint_date</th>\n",
       "      <th>first_touchpoint_time</th>\n",
       "      <th>conversion_date</th>\n",
       "      <th>conversion_time</th>\n",
       "    </tr>\n",
       "  </thead>\n",
       "  <tbody>\n",
       "    <tr>\n",
       "      <th>0</th>\n",
       "      <td>flN8vT0gmTR1v8Ixommd1+u8s4ZvO8No7p7wl0X1v6Y+4z...</td>\n",
       "      <td>no medium</td>\n",
       "      <td>0</td>\n",
       "      <td>2022-12-27</td>\n",
       "      <td>19:00</td>\n",
       "      <td>NaT</td>\n",
       "      <td>NaN</td>\n",
       "    </tr>\n",
       "    <tr>\n",
       "      <th>1</th>\n",
       "      <td>rgJvzjwn131LAGM5p0MZLCniNp8xX9VnGk861Dgu1wXNAA...</td>\n",
       "      <td>no medium</td>\n",
       "      <td>0</td>\n",
       "      <td>2022-12-27</td>\n",
       "      <td>19:00</td>\n",
       "      <td>NaT</td>\n",
       "      <td>NaN</td>\n",
       "    </tr>\n",
       "    <tr>\n",
       "      <th>2</th>\n",
       "      <td>+JIUpNSpBdH11qifFKE/DwVZ5jozE6X2jJULmP3SZ0APUl...</td>\n",
       "      <td>no medium</td>\n",
       "      <td>0</td>\n",
       "      <td>2022-12-27</td>\n",
       "      <td>19:00</td>\n",
       "      <td>NaT</td>\n",
       "      <td>NaN</td>\n",
       "    </tr>\n",
       "    <tr>\n",
       "      <th>3</th>\n",
       "      <td>xO4dP3GBXDpOxHNwFIDCBnMKI1cBhsdZH+Eru7eyEoc0o8...</td>\n",
       "      <td>no medium</td>\n",
       "      <td>1</td>\n",
       "      <td>2022-12-27</td>\n",
       "      <td>19:00</td>\n",
       "      <td>2023-01-23</td>\n",
       "      <td>09:16</td>\n",
       "    </tr>\n",
       "    <tr>\n",
       "      <th>4</th>\n",
       "      <td>nP78ikNKi2iu1IJUO+LWIPcoByh3ZWFvlIzIl174i1jCuK...</td>\n",
       "      <td>paidsocial</td>\n",
       "      <td>0</td>\n",
       "      <td>2022-12-27</td>\n",
       "      <td>19:00</td>\n",
       "      <td>NaT</td>\n",
       "      <td>NaN</td>\n",
       "    </tr>\n",
       "    <tr>\n",
       "      <th>...</th>\n",
       "      <td>...</td>\n",
       "      <td>...</td>\n",
       "      <td>...</td>\n",
       "      <td>...</td>\n",
       "      <td>...</td>\n",
       "      <td>...</td>\n",
       "      <td>...</td>\n",
       "    </tr>\n",
       "    <tr>\n",
       "      <th>173977</th>\n",
       "      <td>Bhb3oQm/4lEdnfspisZFFIQ7KsURX1kTn0ZoORLfQACaMp...</td>\n",
       "      <td>paidsocial</td>\n",
       "      <td>0</td>\n",
       "      <td>2023-01-26</td>\n",
       "      <td>18:57</td>\n",
       "      <td>NaT</td>\n",
       "      <td>NaN</td>\n",
       "    </tr>\n",
       "    <tr>\n",
       "      <th>173978</th>\n",
       "      <td>/Tlhkd3MP+sLk0BCYysi+42pTI0n27hWhFOoYDhu9RbyFH...</td>\n",
       "      <td>organic</td>\n",
       "      <td>0</td>\n",
       "      <td>2023-01-26</td>\n",
       "      <td>18:58</td>\n",
       "      <td>NaT</td>\n",
       "      <td>NaN</td>\n",
       "    </tr>\n",
       "    <tr>\n",
       "      <th>173979</th>\n",
       "      <td>RqRHrHy9ulJb0kzPZ6p3yNYs2X0GQrvwONXmEbp+1mWyZw...</td>\n",
       "      <td>no medium</td>\n",
       "      <td>0</td>\n",
       "      <td>2023-01-26</td>\n",
       "      <td>18:58</td>\n",
       "      <td>NaT</td>\n",
       "      <td>NaN</td>\n",
       "    </tr>\n",
       "    <tr>\n",
       "      <th>173980</th>\n",
       "      <td>2S+bgXa7/MX7Wd9i1glLSWz8tsc9AtojUmymF9GWXGOvQj...</td>\n",
       "      <td>no medium</td>\n",
       "      <td>0</td>\n",
       "      <td>2023-01-26</td>\n",
       "      <td>18:59</td>\n",
       "      <td>NaT</td>\n",
       "      <td>NaN</td>\n",
       "    </tr>\n",
       "    <tr>\n",
       "      <th>173981</th>\n",
       "      <td>hnFVOKUD72138cq5OOVz7JAO/ZJitVEasz7sSzD9XdwF6W...</td>\n",
       "      <td>paidsocial</td>\n",
       "      <td>0</td>\n",
       "      <td>2023-01-26</td>\n",
       "      <td>18:59</td>\n",
       "      <td>NaT</td>\n",
       "      <td>NaN</td>\n",
       "    </tr>\n",
       "  </tbody>\n",
       "</table>\n",
       "<p>173982 rows × 7 columns</p>\n",
       "</div>"
      ],
      "text/plain": [
       "                                           user_pseudo_id medium_path  \\\n",
       "0       flN8vT0gmTR1v8Ixommd1+u8s4ZvO8No7p7wl0X1v6Y+4z...   no medium   \n",
       "1       rgJvzjwn131LAGM5p0MZLCniNp8xX9VnGk861Dgu1wXNAA...   no medium   \n",
       "2       +JIUpNSpBdH11qifFKE/DwVZ5jozE6X2jJULmP3SZ0APUl...   no medium   \n",
       "3       xO4dP3GBXDpOxHNwFIDCBnMKI1cBhsdZH+Eru7eyEoc0o8...   no medium   \n",
       "4       nP78ikNKi2iu1IJUO+LWIPcoByh3ZWFvlIzIl174i1jCuK...  paidsocial   \n",
       "...                                                   ...         ...   \n",
       "173977  Bhb3oQm/4lEdnfspisZFFIQ7KsURX1kTn0ZoORLfQACaMp...  paidsocial   \n",
       "173978  /Tlhkd3MP+sLk0BCYysi+42pTI0n27hWhFOoYDhu9RbyFH...     organic   \n",
       "173979  RqRHrHy9ulJb0kzPZ6p3yNYs2X0GQrvwONXmEbp+1mWyZw...   no medium   \n",
       "173980  2S+bgXa7/MX7Wd9i1glLSWz8tsc9AtojUmymF9GWXGOvQj...   no medium   \n",
       "173981  hnFVOKUD72138cq5OOVz7JAO/ZJitVEasz7sSzD9XdwF6W...  paidsocial   \n",
       "\n",
       "        conversion_flag first_touchpoint_date first_touchpoint_time  \\\n",
       "0                     0            2022-12-27                 19:00   \n",
       "1                     0            2022-12-27                 19:00   \n",
       "2                     0            2022-12-27                 19:00   \n",
       "3                     1            2022-12-27                 19:00   \n",
       "4                     0            2022-12-27                 19:00   \n",
       "...                 ...                   ...                   ...   \n",
       "173977                0            2023-01-26                 18:57   \n",
       "173978                0            2023-01-26                 18:58   \n",
       "173979                0            2023-01-26                 18:58   \n",
       "173980                0            2023-01-26                 18:59   \n",
       "173981                0            2023-01-26                 18:59   \n",
       "\n",
       "       conversion_date conversion_time  \n",
       "0                  NaT             NaN  \n",
       "1                  NaT             NaN  \n",
       "2                  NaT             NaN  \n",
       "3           2023-01-23           09:16  \n",
       "4                  NaT             NaN  \n",
       "...                ...             ...  \n",
       "173977             NaT             NaN  \n",
       "173978             NaT             NaN  \n",
       "173979             NaT             NaN  \n",
       "173980             NaT             NaN  \n",
       "173981             NaT             NaN  \n",
       "\n",
       "[173982 rows x 7 columns]"
      ]
     },
     "execution_count": 17,
     "metadata": {},
     "output_type": "execute_result"
    }
   ],
   "source": [
    "conversion_paths"
   ]
  },
  {
   "cell_type": "markdown",
   "id": "45143943",
   "metadata": {},
   "source": [
    "#    - Create a new dataset with the filtered data"
   ]
  },
  {
   "cell_type": "markdown",
   "id": "d2a6308b",
   "metadata": {},
   "source": [
    "* Merge both datasets for deeper analysis\n",
    "* Ensure data integrity and consistency of formats\n",
    "* Convert state data to numeric for potential machine learning analysis"
   ]
  },
  {
   "cell_type": "code",
   "execution_count": 18,
   "id": "cf96abc8",
   "metadata": {},
   "outputs": [],
   "source": [
    "states_new = pd.read_csv('states_filled.csv')"
   ]
  },
  {
   "cell_type": "code",
   "execution_count": 19,
   "id": "f30a3d31",
   "metadata": {},
   "outputs": [],
   "source": [
    "states_new.drop(columns=['user', 'state'], inplace=True)"
   ]
  },
  {
   "cell_type": "code",
   "execution_count": 20,
   "id": "190659c2",
   "metadata": {},
   "outputs": [
    {
     "data": {
      "text/html": [
       "<div>\n",
       "<style scoped>\n",
       "    .dataframe tbody tr th:only-of-type {\n",
       "        vertical-align: middle;\n",
       "    }\n",
       "\n",
       "    .dataframe tbody tr th {\n",
       "        vertical-align: top;\n",
       "    }\n",
       "\n",
       "    .dataframe thead th {\n",
       "        text-align: right;\n",
       "    }\n",
       "</style>\n",
       "<table border=\"1\" class=\"dataframe\">\n",
       "  <thead>\n",
       "    <tr style=\"text-align: right;\">\n",
       "      <th></th>\n",
       "      <th>user_pseudo_id</th>\n",
       "      <th>state_fill</th>\n",
       "    </tr>\n",
       "  </thead>\n",
       "  <tbody>\n",
       "    <tr>\n",
       "      <th>0</th>\n",
       "      <td>hVFl1B9VCClNRvIkpxOUfhB9P/6a832e1Dc2ZX+YGNDCah...</td>\n",
       "      <td>North Dakota</td>\n",
       "    </tr>\n",
       "    <tr>\n",
       "      <th>1</th>\n",
       "      <td>KBEwoksttJ+YiA6EFk0EiR5d7LIfHYuTcD9jFLFgG/a2gr...</td>\n",
       "      <td>Maryland</td>\n",
       "    </tr>\n",
       "    <tr>\n",
       "      <th>2</th>\n",
       "      <td>S27mHCNkECsdX3td8QrOEplOyacPaiMNSnSiYkrPyIq7Xe...</td>\n",
       "      <td>New Jersey</td>\n",
       "    </tr>\n",
       "    <tr>\n",
       "      <th>3</th>\n",
       "      <td>1AkFYd/UnL/x3YVszCg6XQdvR0vrzdb37m809BpOSpqeZJ...</td>\n",
       "      <td>Nevada</td>\n",
       "    </tr>\n",
       "    <tr>\n",
       "      <th>4</th>\n",
       "      <td>w6IqLfvEa1J/i6mHkJvoNbL4/FDZM6hFOUmj7rekuj2sXe...</td>\n",
       "      <td>West Virginia</td>\n",
       "    </tr>\n",
       "  </tbody>\n",
       "</table>\n",
       "</div>"
      ],
      "text/plain": [
       "                                      user_pseudo_id     state_fill\n",
       "0  hVFl1B9VCClNRvIkpxOUfhB9P/6a832e1Dc2ZX+YGNDCah...   North Dakota\n",
       "1  KBEwoksttJ+YiA6EFk0EiR5d7LIfHYuTcD9jFLFgG/a2gr...       Maryland\n",
       "2  S27mHCNkECsdX3td8QrOEplOyacPaiMNSnSiYkrPyIq7Xe...     New Jersey\n",
       "3  1AkFYd/UnL/x3YVszCg6XQdvR0vrzdb37m809BpOSpqeZJ...         Nevada\n",
       "4  w6IqLfvEa1J/i6mHkJvoNbL4/FDZM6hFOUmj7rekuj2sXe...  West Virginia"
      ]
     },
     "execution_count": 20,
     "metadata": {},
     "output_type": "execute_result"
    }
   ],
   "source": [
    "states_new.head()"
   ]
  },
  {
   "cell_type": "code",
   "execution_count": 21,
   "id": "7b53d26f",
   "metadata": {},
   "outputs": [
    {
     "data": {
      "text/html": [
       "<div>\n",
       "<style scoped>\n",
       "    .dataframe tbody tr th:only-of-type {\n",
       "        vertical-align: middle;\n",
       "    }\n",
       "\n",
       "    .dataframe tbody tr th {\n",
       "        vertical-align: top;\n",
       "    }\n",
       "\n",
       "    .dataframe thead th {\n",
       "        text-align: right;\n",
       "    }\n",
       "</style>\n",
       "<table border=\"1\" class=\"dataframe\">\n",
       "  <thead>\n",
       "    <tr style=\"text-align: right;\">\n",
       "      <th></th>\n",
       "      <th>user_pseudo_id</th>\n",
       "      <th>state_fill</th>\n",
       "      <th>medium_path</th>\n",
       "      <th>conversion_flag</th>\n",
       "      <th>first_touchpoint_date</th>\n",
       "      <th>first_touchpoint_time</th>\n",
       "      <th>conversion_date</th>\n",
       "      <th>conversion_time</th>\n",
       "    </tr>\n",
       "  </thead>\n",
       "  <tbody>\n",
       "    <tr>\n",
       "      <th>0</th>\n",
       "      <td>hVFl1B9VCClNRvIkpxOUfhB9P/6a832e1Dc2ZX+YGNDCah...</td>\n",
       "      <td>North Dakota</td>\n",
       "      <td>no medium</td>\n",
       "      <td>0</td>\n",
       "      <td>2023-01-21</td>\n",
       "      <td>10:33</td>\n",
       "      <td>NaT</td>\n",
       "      <td>NaN</td>\n",
       "    </tr>\n",
       "    <tr>\n",
       "      <th>1</th>\n",
       "      <td>KBEwoksttJ+YiA6EFk0EiR5d7LIfHYuTcD9jFLFgG/a2gr...</td>\n",
       "      <td>Maryland</td>\n",
       "      <td>no medium</td>\n",
       "      <td>0</td>\n",
       "      <td>2023-01-23</td>\n",
       "      <td>22:53</td>\n",
       "      <td>NaT</td>\n",
       "      <td>NaN</td>\n",
       "    </tr>\n",
       "    <tr>\n",
       "      <th>2</th>\n",
       "      <td>S27mHCNkECsdX3td8QrOEplOyacPaiMNSnSiYkrPyIq7Xe...</td>\n",
       "      <td>New Jersey</td>\n",
       "      <td>no medium</td>\n",
       "      <td>0</td>\n",
       "      <td>2023-01-24</td>\n",
       "      <td>11:39</td>\n",
       "      <td>NaT</td>\n",
       "      <td>NaN</td>\n",
       "    </tr>\n",
       "    <tr>\n",
       "      <th>3</th>\n",
       "      <td>1AkFYd/UnL/x3YVszCg6XQdvR0vrzdb37m809BpOSpqeZJ...</td>\n",
       "      <td>Nevada</td>\n",
       "      <td>no medium</td>\n",
       "      <td>0</td>\n",
       "      <td>2023-01-24</td>\n",
       "      <td>15:03</td>\n",
       "      <td>NaT</td>\n",
       "      <td>NaN</td>\n",
       "    </tr>\n",
       "    <tr>\n",
       "      <th>4</th>\n",
       "      <td>w6IqLfvEa1J/i6mHkJvoNbL4/FDZM6hFOUmj7rekuj2sXe...</td>\n",
       "      <td>West Virginia</td>\n",
       "      <td>no medium</td>\n",
       "      <td>0</td>\n",
       "      <td>2023-01-05</td>\n",
       "      <td>04:58</td>\n",
       "      <td>NaT</td>\n",
       "      <td>NaN</td>\n",
       "    </tr>\n",
       "    <tr>\n",
       "      <th>...</th>\n",
       "      <td>...</td>\n",
       "      <td>...</td>\n",
       "      <td>...</td>\n",
       "      <td>...</td>\n",
       "      <td>...</td>\n",
       "      <td>...</td>\n",
       "      <td>...</td>\n",
       "      <td>...</td>\n",
       "    </tr>\n",
       "    <tr>\n",
       "      <th>184877</th>\n",
       "      <td>qreOzdSFp+uytQaT9vPD+emuUBbIugaxi8AE048vAQ+48Q...</td>\n",
       "      <td>South Carolina</td>\n",
       "      <td>cpc</td>\n",
       "      <td>0</td>\n",
       "      <td>2023-01-20</td>\n",
       "      <td>13:39</td>\n",
       "      <td>NaT</td>\n",
       "      <td>NaN</td>\n",
       "    </tr>\n",
       "    <tr>\n",
       "      <th>184878</th>\n",
       "      <td>/EtQfSZBPW5w8baapcbFC+rFPefq4JYJz29tHmtCKgfL47...</td>\n",
       "      <td>South Carolina</td>\n",
       "      <td>paidsocial</td>\n",
       "      <td>0</td>\n",
       "      <td>2023-01-20</td>\n",
       "      <td>17:34</td>\n",
       "      <td>NaT</td>\n",
       "      <td>NaN</td>\n",
       "    </tr>\n",
       "    <tr>\n",
       "      <th>184879</th>\n",
       "      <td>ks52NCYBZCIGPv/eoZvqidovKRoG00jj9aSsk8dlwsWlG3...</td>\n",
       "      <td>South Carolina</td>\n",
       "      <td>referral</td>\n",
       "      <td>0</td>\n",
       "      <td>2023-01-11</td>\n",
       "      <td>21:38</td>\n",
       "      <td>NaT</td>\n",
       "      <td>NaN</td>\n",
       "    </tr>\n",
       "    <tr>\n",
       "      <th>184880</th>\n",
       "      <td>rDwxO5UYceE/2fjGg90+KbwcfRkIvt8EBi8Si6dXHL5iED...</td>\n",
       "      <td>South Carolina</td>\n",
       "      <td>paidsocial</td>\n",
       "      <td>0</td>\n",
       "      <td>2023-01-12</td>\n",
       "      <td>13:09</td>\n",
       "      <td>NaT</td>\n",
       "      <td>NaN</td>\n",
       "    </tr>\n",
       "    <tr>\n",
       "      <th>184881</th>\n",
       "      <td>87r7NnV5nvmiX/RI7rk8V2us5h8zBPwL9kxpeG9SLtNSEF...</td>\n",
       "      <td>South Carolina</td>\n",
       "      <td>paidsocial,paidsocial</td>\n",
       "      <td>0</td>\n",
       "      <td>2023-01-12</td>\n",
       "      <td>16:30</td>\n",
       "      <td>NaT</td>\n",
       "      <td>NaN</td>\n",
       "    </tr>\n",
       "  </tbody>\n",
       "</table>\n",
       "<p>184882 rows × 8 columns</p>\n",
       "</div>"
      ],
      "text/plain": [
       "                                           user_pseudo_id      state_fill  \\\n",
       "0       hVFl1B9VCClNRvIkpxOUfhB9P/6a832e1Dc2ZX+YGNDCah...    North Dakota   \n",
       "1       KBEwoksttJ+YiA6EFk0EiR5d7LIfHYuTcD9jFLFgG/a2gr...        Maryland   \n",
       "2       S27mHCNkECsdX3td8QrOEplOyacPaiMNSnSiYkrPyIq7Xe...      New Jersey   \n",
       "3       1AkFYd/UnL/x3YVszCg6XQdvR0vrzdb37m809BpOSpqeZJ...          Nevada   \n",
       "4       w6IqLfvEa1J/i6mHkJvoNbL4/FDZM6hFOUmj7rekuj2sXe...   West Virginia   \n",
       "...                                                   ...             ...   \n",
       "184877  qreOzdSFp+uytQaT9vPD+emuUBbIugaxi8AE048vAQ+48Q...  South Carolina   \n",
       "184878  /EtQfSZBPW5w8baapcbFC+rFPefq4JYJz29tHmtCKgfL47...  South Carolina   \n",
       "184879  ks52NCYBZCIGPv/eoZvqidovKRoG00jj9aSsk8dlwsWlG3...  South Carolina   \n",
       "184880  rDwxO5UYceE/2fjGg90+KbwcfRkIvt8EBi8Si6dXHL5iED...  South Carolina   \n",
       "184881  87r7NnV5nvmiX/RI7rk8V2us5h8zBPwL9kxpeG9SLtNSEF...  South Carolina   \n",
       "\n",
       "                  medium_path  conversion_flag first_touchpoint_date  \\\n",
       "0                   no medium                0            2023-01-21   \n",
       "1                   no medium                0            2023-01-23   \n",
       "2                   no medium                0            2023-01-24   \n",
       "3                   no medium                0            2023-01-24   \n",
       "4                   no medium                0            2023-01-05   \n",
       "...                       ...              ...                   ...   \n",
       "184877                    cpc                0            2023-01-20   \n",
       "184878             paidsocial                0            2023-01-20   \n",
       "184879               referral                0            2023-01-11   \n",
       "184880             paidsocial                0            2023-01-12   \n",
       "184881  paidsocial,paidsocial                0            2023-01-12   \n",
       "\n",
       "       first_touchpoint_time conversion_date conversion_time  \n",
       "0                      10:33             NaT             NaN  \n",
       "1                      22:53             NaT             NaN  \n",
       "2                      11:39             NaT             NaN  \n",
       "3                      15:03             NaT             NaN  \n",
       "4                      04:58             NaT             NaN  \n",
       "...                      ...             ...             ...  \n",
       "184877                 13:39             NaT             NaN  \n",
       "184878                 17:34             NaT             NaN  \n",
       "184879                 21:38             NaT             NaN  \n",
       "184880                 13:09             NaT             NaN  \n",
       "184881                 16:30             NaT             NaN  \n",
       "\n",
       "[184882 rows x 8 columns]"
      ]
     },
     "execution_count": 21,
     "metadata": {},
     "output_type": "execute_result"
    }
   ],
   "source": [
    "merged_data = pd.merge(states_new, conversion_paths, on='user_pseudo_id', how='inner')\n",
    "merged_data"
   ]
  },
  {
   "cell_type": "code",
   "execution_count": 22,
   "id": "017a66bd",
   "metadata": {},
   "outputs": [
    {
     "name": "stdout",
     "output_type": "stream",
     "text": [
      "<class 'pandas.core.frame.DataFrame'>\n",
      "Int64Index: 184882 entries, 0 to 184881\n",
      "Data columns (total 8 columns):\n",
      " #   Column                 Non-Null Count   Dtype         \n",
      "---  ------                 --------------   -----         \n",
      " 0   user_pseudo_id         184882 non-null  object        \n",
      " 1   state_fill             184882 non-null  object        \n",
      " 2   medium_path            184882 non-null  object        \n",
      " 3   conversion_flag        184882 non-null  int64         \n",
      " 4   first_touchpoint_date  184882 non-null  datetime64[ns]\n",
      " 5   first_touchpoint_time  184882 non-null  object        \n",
      " 6   conversion_date        12926 non-null   datetime64[ns]\n",
      " 7   conversion_time        12926 non-null   object        \n",
      "dtypes: datetime64[ns](2), int64(1), object(5)\n",
      "memory usage: 12.7+ MB\n"
     ]
    }
   ],
   "source": [
    "merged_data.info()"
   ]
  },
  {
   "cell_type": "code",
   "execution_count": 23,
   "id": "46672772",
   "metadata": {},
   "outputs": [
    {
     "data": {
      "text/plain": [
       "user_pseudo_id                0\n",
       "state_fill                    0\n",
       "medium_path                   0\n",
       "conversion_flag               0\n",
       "first_touchpoint_date         0\n",
       "first_touchpoint_time         0\n",
       "conversion_date          171956\n",
       "conversion_time          171956\n",
       "dtype: int64"
      ]
     },
     "execution_count": 23,
     "metadata": {},
     "output_type": "execute_result"
    }
   ],
   "source": [
    "merged_data.isnull().sum()"
   ]
  },
  {
   "cell_type": "code",
   "execution_count": 24,
   "id": "0f08efa5",
   "metadata": {},
   "outputs": [
    {
     "data": {
      "text/plain": [
       "user_pseudo_id           158504\n",
       "state_fill                   52\n",
       "medium_path                1709\n",
       "conversion_flag               2\n",
       "first_touchpoint_date        31\n",
       "first_touchpoint_time      1440\n",
       "conversion_date              31\n",
       "conversion_time            1381\n",
       "dtype: int64"
      ]
     },
     "execution_count": 24,
     "metadata": {},
     "output_type": "execute_result"
    }
   ],
   "source": [
    "merged_data.nunique()"
   ]
  },
  {
   "cell_type": "markdown",
   "id": "782df5f6",
   "metadata": {},
   "source": [
    "* NOTE: List of states in EE.UU.\n",
    "1\tAlabama\n",
    "2\tAlaska\n",
    "3\tArizona\n",
    "4\tArkansas\n",
    "5\tCalifornia\n",
    "6\tColorado\n",
    "7\tConnecticut\n",
    "8\tDelaware\n",
    "9\tFlorida\n",
    "10\tGeorgia\n",
    "11\tHawaii\n",
    "12\tIdaho\n",
    "13\tIllinois\n",
    "14\tIndiana\n",
    "15\tIowa\n",
    "16\tKansas\n",
    "17\tKentucky\n",
    "18\tLouisiana\n",
    "19\tMaine\n",
    "20\tMaryland\n",
    "21\tMassachusetts\n",
    "22\tMichigan\n",
    "23\tMinnesota\n",
    "24\tMississippi\n",
    "25\tMissouri\n",
    "26\tMontana\n",
    "27\tNebraska\n",
    "28\tNevada\n",
    "29\tNew Hampshire\n",
    "30\tNew Jersey\n",
    "31\tNew Mexico\n",
    "32\tNew York\n",
    "33\tNorth Carolina\n",
    "34\tNorth Dakota\n",
    "35\tOhio\n",
    "36\tOklahoma\n",
    "37\tOregon\n",
    "38\tPennsylvania\n",
    "39\tRhode Island\n",
    "40\tSouth Carolina\n",
    "41\tSouth Dakota\n",
    "42\tTennessee\n",
    "43\tTexas\n",
    "44\tUtah\n",
    "45\tVermont\n",
    "46\tVirginia\n",
    "47\tWashington\n",
    "48\tWest Virginia\n",
    "49\tWisconsin\n",
    "50\tWyoming\n"
   ]
  },
  {
   "cell_type": "code",
   "execution_count": 25,
   "id": "f66013fb",
   "metadata": {},
   "outputs": [],
   "source": [
    "us_states = [\n",
    "    'Alabama', 'Alaska', 'Arizona', 'Arkansas', 'California', 'Colorado', 'Connecticut', 'Delaware', 'Florida',\n",
    "    'Georgia', 'Hawaii', 'Idaho', 'Illinois', 'Indiana', 'Iowa', 'Kansas', 'Kentucky', 'Louisiana', 'Maine',\n",
    "    'Maryland', 'Massachusetts', 'Michigan', 'Minnesota', 'Mississippi', 'Missouri', 'Montana', 'Nebraska', 'Nevada',\n",
    "    'New Hampshire', 'New Jersey', 'New Mexico', 'New York', 'North Carolina', 'North Dakota', 'Ohio', 'Oklahoma',\n",
    "    'Oregon', 'Pennsylvania', 'Rhode Island', 'South Carolina', 'South Dakota', 'Tennessee', 'Texas', 'Utah',\n",
    "    'Vermont', 'Virginia', 'Washington', 'West Virginia', 'Wisconsin', 'Wyoming'\n",
    "]\n",
    "\n",
    "# Create a dictionary that maps state names to state numbers\n",
    "state_mapping = {state: index + 1 for index, state in enumerate(us_states)}\n",
    "\n",
    "# Assign the value 0 to the \"Other\" category\n",
    "state_mapping['Other'] = 0\n",
    "\n",
    "# Apply the mapping to the DataFrame\n",
    "merged_data['state_fill_numeric'] = merged_data['state_fill'].map(state_mapping)\n",
    "\n",
    "# Convert column 'state_fill_numeric' to categorical data type\n",
    "merged_data['state_fill_numeric'] = merged_data['state_fill_numeric'].astype('category')\n"
   ]
  },
  {
   "cell_type": "code",
   "execution_count": 26,
   "id": "7dfe7b84",
   "metadata": {},
   "outputs": [
    {
     "data": {
      "text/html": [
       "<div>\n",
       "<style scoped>\n",
       "    .dataframe tbody tr th:only-of-type {\n",
       "        vertical-align: middle;\n",
       "    }\n",
       "\n",
       "    .dataframe tbody tr th {\n",
       "        vertical-align: top;\n",
       "    }\n",
       "\n",
       "    .dataframe thead th {\n",
       "        text-align: right;\n",
       "    }\n",
       "</style>\n",
       "<table border=\"1\" class=\"dataframe\">\n",
       "  <thead>\n",
       "    <tr style=\"text-align: right;\">\n",
       "      <th></th>\n",
       "      <th>user_pseudo_id</th>\n",
       "      <th>state_fill</th>\n",
       "      <th>medium_path</th>\n",
       "      <th>conversion_flag</th>\n",
       "      <th>first_touchpoint_date</th>\n",
       "      <th>first_touchpoint_time</th>\n",
       "      <th>conversion_date</th>\n",
       "      <th>conversion_time</th>\n",
       "      <th>state_fill_numeric</th>\n",
       "    </tr>\n",
       "  </thead>\n",
       "  <tbody>\n",
       "    <tr>\n",
       "      <th>0</th>\n",
       "      <td>hVFl1B9VCClNRvIkpxOUfhB9P/6a832e1Dc2ZX+YGNDCah...</td>\n",
       "      <td>North Dakota</td>\n",
       "      <td>no medium</td>\n",
       "      <td>0</td>\n",
       "      <td>2023-01-21</td>\n",
       "      <td>10:33</td>\n",
       "      <td>NaT</td>\n",
       "      <td>NaN</td>\n",
       "      <td>34.0</td>\n",
       "    </tr>\n",
       "    <tr>\n",
       "      <th>1</th>\n",
       "      <td>KBEwoksttJ+YiA6EFk0EiR5d7LIfHYuTcD9jFLFgG/a2gr...</td>\n",
       "      <td>Maryland</td>\n",
       "      <td>no medium</td>\n",
       "      <td>0</td>\n",
       "      <td>2023-01-23</td>\n",
       "      <td>22:53</td>\n",
       "      <td>NaT</td>\n",
       "      <td>NaN</td>\n",
       "      <td>20.0</td>\n",
       "    </tr>\n",
       "    <tr>\n",
       "      <th>2</th>\n",
       "      <td>S27mHCNkECsdX3td8QrOEplOyacPaiMNSnSiYkrPyIq7Xe...</td>\n",
       "      <td>New Jersey</td>\n",
       "      <td>no medium</td>\n",
       "      <td>0</td>\n",
       "      <td>2023-01-24</td>\n",
       "      <td>11:39</td>\n",
       "      <td>NaT</td>\n",
       "      <td>NaN</td>\n",
       "      <td>30.0</td>\n",
       "    </tr>\n",
       "    <tr>\n",
       "      <th>3</th>\n",
       "      <td>1AkFYd/UnL/x3YVszCg6XQdvR0vrzdb37m809BpOSpqeZJ...</td>\n",
       "      <td>Nevada</td>\n",
       "      <td>no medium</td>\n",
       "      <td>0</td>\n",
       "      <td>2023-01-24</td>\n",
       "      <td>15:03</td>\n",
       "      <td>NaT</td>\n",
       "      <td>NaN</td>\n",
       "      <td>28.0</td>\n",
       "    </tr>\n",
       "    <tr>\n",
       "      <th>4</th>\n",
       "      <td>w6IqLfvEa1J/i6mHkJvoNbL4/FDZM6hFOUmj7rekuj2sXe...</td>\n",
       "      <td>West Virginia</td>\n",
       "      <td>no medium</td>\n",
       "      <td>0</td>\n",
       "      <td>2023-01-05</td>\n",
       "      <td>04:58</td>\n",
       "      <td>NaT</td>\n",
       "      <td>NaN</td>\n",
       "      <td>48.0</td>\n",
       "    </tr>\n",
       "  </tbody>\n",
       "</table>\n",
       "</div>"
      ],
      "text/plain": [
       "                                      user_pseudo_id     state_fill  \\\n",
       "0  hVFl1B9VCClNRvIkpxOUfhB9P/6a832e1Dc2ZX+YGNDCah...   North Dakota   \n",
       "1  KBEwoksttJ+YiA6EFk0EiR5d7LIfHYuTcD9jFLFgG/a2gr...       Maryland   \n",
       "2  S27mHCNkECsdX3td8QrOEplOyacPaiMNSnSiYkrPyIq7Xe...     New Jersey   \n",
       "3  1AkFYd/UnL/x3YVszCg6XQdvR0vrzdb37m809BpOSpqeZJ...         Nevada   \n",
       "4  w6IqLfvEa1J/i6mHkJvoNbL4/FDZM6hFOUmj7rekuj2sXe...  West Virginia   \n",
       "\n",
       "  medium_path  conversion_flag first_touchpoint_date first_touchpoint_time  \\\n",
       "0   no medium                0            2023-01-21                 10:33   \n",
       "1   no medium                0            2023-01-23                 22:53   \n",
       "2   no medium                0            2023-01-24                 11:39   \n",
       "3   no medium                0            2023-01-24                 15:03   \n",
       "4   no medium                0            2023-01-05                 04:58   \n",
       "\n",
       "  conversion_date conversion_time state_fill_numeric  \n",
       "0             NaT             NaN               34.0  \n",
       "1             NaT             NaN               20.0  \n",
       "2             NaT             NaN               30.0  \n",
       "3             NaT             NaN               28.0  \n",
       "4             NaT             NaN               48.0  "
      ]
     },
     "execution_count": 26,
     "metadata": {},
     "output_type": "execute_result"
    }
   ],
   "source": [
    "# Validate the dataset for completeness and accuracy\n",
    "merged_data.head()"
   ]
  },
  {
   "cell_type": "code",
   "execution_count": 28,
   "id": "6df8cf58",
   "metadata": {},
   "outputs": [],
   "source": [
    "merged_data.to_csv('dataset_new.csv', index=False)"
   ]
  },
  {
   "cell_type": "code",
   "execution_count": null,
   "id": "1f30d0a6",
   "metadata": {},
   "outputs": [],
   "source": []
  }
 ],
 "metadata": {
  "kernelspec": {
   "display_name": "Python 3 (ipykernel)",
   "language": "python",
   "name": "python3"
  },
  "language_info": {
   "codemirror_mode": {
    "name": "ipython",
    "version": 3
   },
   "file_extension": ".py",
   "mimetype": "text/x-python",
   "name": "python",
   "nbconvert_exporter": "python",
   "pygments_lexer": "ipython3",
   "version": "3.10.9"
  }
 },
 "nbformat": 4,
 "nbformat_minor": 5
}
